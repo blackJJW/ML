{
  "nbformat": 4,
  "nbformat_minor": 0,
  "metadata": {
    "colab": {
      "name": "chapter4_2",
      "provenance": [],
      "authorship_tag": "ABX9TyN0u4KZbGyr+R5pM4FIeMYJ",
      "include_colab_link": true
    },
    "kernelspec": {
      "name": "python3",
      "display_name": "Python 3"
    },
    "language_info": {
      "name": "python"
    }
  },
  "cells": [
    {
      "cell_type": "markdown",
      "metadata": {
        "id": "view-in-github",
        "colab_type": "text"
      },
      "source": [
        "<a href=\"https://colab.research.google.com/github/blackJJW/ML/blob/main/self_study_ML/chapter4_2.ipynb\" target=\"_parent\"><img src=\"https://colab.research.google.com/assets/colab-badge.svg\" alt=\"Open In Colab\"/></a>"
      ]
    },
    {
      "cell_type": "markdown",
      "source": [
        "# Book : '혼자 공부하는 머신러닝 + 딥러닝', 박해선 지음, 한빛미디어"
      ],
      "metadata": {
        "id": "iHeCxrhgggvO"
      }
    },
    {
      "cell_type": "markdown",
      "source": [
        "# 04-2 확률적 경사 하강법"
      ],
      "metadata": {
        "id": "-drznVmQgpm-"
      }
    },
    {
      "cell_type": "markdown",
      "source": [
        "## 점진적인 학습 또는 온라인 학습\n",
        "- 앞서 훈련한 모델을 버리지 않고 새로운 데이터에 대해서만 조금씩 더 훈련\n",
        "  - 대표적인 알고리즘 : 확률적 경사 하강법(Stochastic Gradient Descent)"
      ],
      "metadata": {
        "id": "tCyzKJpWguny"
      }
    },
    {
      "cell_type": "markdown",
      "source": [
        "### 확률적 경사 하강법\n",
        "- 훈련 세트에서 랜덤하게 하나의 샘플을 고르는 것\n",
        "- 에포크(epoch) : 확률적 경사 하강법에서 훈련세트를 한 번 모두 사용하는 과정\n",
        "- 미니배치 경사 하강법(minibatch gradient descent) : 여러 개의 샘플을 사용해 경사 하강법을 수행하는 방식\n",
        "- 배치 경사 하강법(batch gradient descent) : 극단적으로 한 번 경사로를 따라 이동하기 위해 전체 샘플을 사용"
      ],
      "metadata": {
        "id": "HqrYhxMBmwS2"
      }
    },
    {
      "cell_type": "markdown",
      "source": [
        "### 손실함수\n",
        "- 손실함수(loss function) : 어떤 문제에서 머신러닝 알고리즘이 얼마나 엉터리인지 측정하는 기준\n",
        "  - 값이 작을 수로 좋음\n",
        "  - 어떤 값이 최솟값인지 알지 못함\n",
        "   \n",
        "> 손실 함수와 비용 함수\n",
        "- 비용 함수(cost function)은 손실 함수의 다른 말.\n",
        "- 손실 함수는 샘플 하나에 대한 손실을 정의\n",
        "- 비용 함수는 훈련 세트에 있는 모든 샘플에 대한 손실 함수의 합\n",
        "- 이 둘을 엄격히 구분하지는 않고 섞어 사용"
      ],
      "metadata": {
        "id": "5VjI8Q6jCNk1"
      }
    },
    {
      "cell_type": "markdown",
      "source": [
        "## SGDClassifier"
      ],
      "metadata": {
        "id": "onmmk5TFDCuG"
      }
    },
    {
      "cell_type": "code",
      "source": [
        "import pandas as pd\n",
        "fish = pd.read_csv('http://bit.ly/fish_csv_data')"
      ],
      "metadata": {
        "id": "zIEAzWTUEbCo"
      },
      "execution_count": 1,
      "outputs": []
    },
    {
      "cell_type": "code",
      "source": [
        "fish_input = fish[['Weight', 'Length', 'Diagonal', 'Height', 'Width']].to_numpy()\n",
        "fish_target = fish['Species'].to_numpy()"
      ],
      "metadata": {
        "id": "V6JzNKKnEn00"
      },
      "execution_count": 3,
      "outputs": []
    },
    {
      "cell_type": "code",
      "source": [
        "from sklearn.model_selection import train_test_split\n",
        "train_input, test_input, train_target, test_target = train_test_split(fish_input, fish_target, random_state=42)"
      ],
      "metadata": {
        "id": "7iaKRXIMFALi"
      },
      "execution_count": 4,
      "outputs": []
    },
    {
      "cell_type": "markdown",
      "source": [
        "- 훈련 세트와 데스트 세트의 특성을 표준화 전처리"
      ],
      "metadata": {
        "id": "lBo6wdA0FUxa"
      }
    },
    {
      "cell_type": "code",
      "source": [
        "from sklearn.preprocessing import StandardScaler\n",
        "ss = StandardScaler()\n",
        "ss.fit(train_input)\n",
        "train_scaled = ss.transform(train_input)\n",
        "test_scaled = ss.transform(test_input)"
      ],
      "metadata": {
        "id": "TcmzV9ryFiH4"
      },
      "execution_count": 5,
      "outputs": []
    },
    {
      "cell_type": "code",
      "source": [
        "from sklearn.linear_model import SGDClassifier"
      ],
      "metadata": {
        "id": "DsuZ2IGpF4C0"
      },
      "execution_count": 6,
      "outputs": []
    },
    {
      "cell_type": "markdown",
      "source": [
        "- SGDClassifier의 객체를 만들 때 2개의 매개변수를 지정\n",
        "  - loss : 손실 함수의 종류 지정\n",
        "  - max_iter : 수행할 에포크의 횟수 지정"
      ],
      "metadata": {
        "id": "hPfoDOwpGFOR"
      }
    },
    {
      "cell_type": "code",
      "source": [
        "sc = SGDClassifier(loss = 'log', max_iter = 10, random_state = 42)\n",
        "sc.fit(train_scaled, train_target)\n",
        "print(sc.score(train_scaled, train_target))\n",
        "print(sc.score(test_scaled, test_target))"
      ],
      "metadata": {
        "colab": {
          "base_uri": "https://localhost:8080/"
        },
        "id": "ZBb3Wiu-HlV0",
        "outputId": "9561e85a-0e5e-4979-cb93-f44352467005"
      },
      "execution_count": 7,
      "outputs": [
        {
          "output_type": "stream",
          "name": "stdout",
          "text": [
            "0.773109243697479\n",
            "0.775\n"
          ]
        },
        {
          "output_type": "stream",
          "name": "stderr",
          "text": [
            "/usr/local/lib/python3.7/dist-packages/sklearn/linear_model/_stochastic_gradient.py:700: ConvergenceWarning: Maximum number of iteration reached before convergence. Consider increasing max_iter to improve the fit.\n",
            "  ConvergenceWarning,\n"
          ]
        }
      ]
    },
    {
      "cell_type": "markdown",
      "source": [
        "> ConvergenceWarning 경고\n",
        "- 모델이 충분히 수렴하지 않음.\n",
        "- max_iter의 값을 올려 준다."
      ],
      "metadata": {
        "id": "ndLj_JoNSRQP"
      }
    },
    {
      "cell_type": "markdown",
      "source": [
        "- 모델을 훈련할 때는 partial_fit()\n",
        "- 호출할 때마다 1 에포크씩 이어서 훈련 가능"
      ],
      "metadata": {
        "id": "GufOdriTShFJ"
      }
    },
    {
      "cell_type": "code",
      "source": [
        "sc.partial_fit(train_scaled, train_target)\n",
        "print(sc.score(train_scaled, train_target))\n",
        "print(sc.score(test_scaled, test_target))"
      ],
      "metadata": {
        "colab": {
          "base_uri": "https://localhost:8080/"
        },
        "id": "PbBOfbuqSnZO",
        "outputId": "290b3361-ea5d-4941-8342-4a650670709a"
      },
      "execution_count": 9,
      "outputs": [
        {
          "output_type": "stream",
          "name": "stdout",
          "text": [
            "0.7815126050420168\n",
            "0.8\n"
          ]
        }
      ]
    },
    {
      "cell_type": "markdown",
      "source": [
        "- 점수 상승"
      ],
      "metadata": {
        "id": "uD3tPj5wTLtG"
      }
    },
    {
      "cell_type": "markdown",
      "source": [
        "## 에포크와 과대/과소 적합\n",
        "- 확률적 경사 하강법을 사용한 모델은 에포크 횟수에 따라 과소적합 또는 과대 적합이 될 수 있다. \n",
        "- 에포크 횟수가 적으면 모델이 훈련 세트를 덜 학습\n",
        "- 에포크 횟수가 충분히 많으면 훈련 세트에 완전히 학습\n",
        "- 적은 에포크 횟수 동안 에 훈려한 모델은 훈련 세트와 테스트 세트에 잘 맞지 않는 과소적합된 모델일 가능성이 큼\n",
        "- 많은 에포크 횟수 동안에 훈련한 모델은 훈련 세트에 너무 잘 맞아 테스트 세트에는 오히려 점수가 나쁜 과대적합된 모델일 가능성이 높다.\n",
        "- 훈련 세트 점수는 에포크가 진행될수록 꾸준히 증가하지만 테스트 세트 점수는 어느 순간 감소하기 시작.\n",
        "  - 바로 이 지점이 모델이 과대적합되기 시작하는 곳\n",
        "  - 과대적합이 시작하기 전에 훈련을 멈추는 것을 조기 종료(early stopping)\n",
        "  "
      ],
      "metadata": {
        "id": "wJXvUL1CTQ_G"
      }
    },
    {
      "cell_type": "code",
      "source": [
        "import numpy as np\n",
        "sc = SGDClassifier(loss='log', random_state=42)\n",
        "train_score=[]\n",
        "test_score=[]\n",
        "classes = np.unique(train_target)"
      ],
      "metadata": {
        "id": "5zJ3IWLtV_iJ"
      },
      "execution_count": 10,
      "outputs": []
    },
    {
      "cell_type": "code",
      "source": [
        "for _ in range(0, 300):\n",
        "  sc.partial_fit(train_scaled, train_target, classes=classes)\n",
        "  train_score.append(sc.score(train_scaled, train_target))\n",
        "  test_score.append(sc.score(test_scaled, test_target))"
      ],
      "metadata": {
        "id": "nmtLL4ABWUzu"
      },
      "execution_count": 12,
      "outputs": []
    },
    {
      "cell_type": "code",
      "source": [
        "import matplotlib.pyplot as plt\n",
        "plt.plot(train_score)\n",
        "plt.plot(test_score)\n",
        "plt.xlabel('epoch')\n",
        "plt.ylabel('accuracy')\n",
        "plt.show()"
      ],
      "metadata": {
        "colab": {
          "base_uri": "https://localhost:8080/",
          "height": 279
        },
        "id": "9gmNG3ZdXpoN",
        "outputId": "0aa5b4e3-f42b-40a2-d09c-09abe7d222eb"
      },
      "execution_count": 13,
      "outputs": [
        {
          "output_type": "display_data",
          "data": {
            "text/plain": [
              "<Figure size 432x288 with 1 Axes>"
            ],
            "image/png": "[encoded data removed]"
          },
          "metadata": {
            "needs_background": "light"
          }
        }
      ]
    },
    {
      "cell_type": "code",
      "source": [
        "sc = SGDClassifier(loss='log', max_iter=100, tol=None, random_state=42)\n",
        "sc.fit(train_scaled, train_target)\n",
        "print(sc.score(train_scaled, train_target))\n",
        "print(sc.score(test_scaled, test_target))"
      ],
      "metadata": {
        "colab": {
          "base_uri": "https://localhost:8080/"
        },
        "id": "p0Im-bgrZxR5",
        "outputId": "35cb3b4e-0ef3-41a5-c8f3-f4143a9161b3"
      },
      "execution_count": 15,
      "outputs": [
        {
          "output_type": "stream",
          "name": "stdout",
          "text": [
            "0.957983193277311\n",
            "0.925\n"
          ]
        }
      ]
    },
    {
      "cell_type": "markdown",
      "source": [
        "- SDGClassifier 는 일정 에포크 동안 성능이 향상되지 않으면 더 훈련하지 않고 자동으로 멈춤\n",
        "  - tol :향상될 최솟값 지정"
      ],
      "metadata": {
        "id": "v800mN70aWHD"
      }
    },
    {
      "cell_type": "markdown",
      "source": [
        "- SDGClassifier의 loss 매개변수\n",
        "  - 기본값 = 'hinge', 힌지 손실(hinge loss) 혹은 서포트 벡터 머신(support vector machine) 이라 불리는 또다른 머신러닝 알고리즘을 위한 손실함수"
      ],
      "metadata": {
        "id": "GIzZ8wcdaqz9"
      }
    },
    {
      "cell_type": "code",
      "source": [
        "sc = SGDClassifier(loss='hinge', max_iter=100, tol=None, random_state=42)\n",
        "sc.fit(train_scaled, train_target)\n",
        "print(sc.score(train_scaled, train_target))\n",
        "print(sc.score(test_scaled, test_target))"
      ],
      "metadata": {
        "colab": {
          "base_uri": "https://localhost:8080/"
        },
        "id": "NHbdyA6wbO2P",
        "outputId": "88c487a4-036c-4120-a7a8-81af013cc6a1"
      },
      "execution_count": 16,
      "outputs": [
        {
          "output_type": "stream",
          "name": "stdout",
          "text": [
            "0.9495798319327731\n",
            "0.925\n"
          ]
        }
      ]
    },
    {
      "cell_type": "markdown",
      "source": [
        "## 마무리"
      ],
      "metadata": {
        "id": "cnlSosYIbuGi"
      }
    },
    {
      "cell_type": "markdown",
      "source": [
        "### 키워드로 끝내는 핵심 포인트\n",
        "- 확률적 경사 하강법 : 훈련 세트에서 샘플 하나씩 꺼내 손실 함수의 경사를 따라 최적의 모델을 찾는 알고리즘.\n",
        "  - 샘플을 하나씩 사용하지 않고 여러 개를 사요하면 미니배치 경사 하강법\n",
        "  - 한 번에 전체 샘플을 사용하면 배치 경사 하강법\n",
        "- 손실함수 : 확률경사 하강법이 최적화할 대상\n",
        "  - 대부분의 문제에 잘 맞는 손실 함수가 이미 정의\n",
        "  - 이진 분류에는 로지스틱 회귀(또는 이진 크로스엔트로피) 손실함수를 사용\n",
        "  - 다중 분류에는 크로스엔트로피 손실 함수를 사용\n",
        "  - 회귀 문제에는 평균 제곱 오차 손실 함수를 사용\n",
        "- 에포크 : 확률적 경사 하강법에서 전체 샘플을 모두 사용하는 한 번 반복을 의미. 일반적으로 경사 하강법 알고리즘은 수십에서 수백 번의 에포크를 반복"
      ],
      "metadata": {
        "id": "rb0dTXlRbwyW"
      }
    },
    {
      "cell_type": "markdown",
      "source": [
        "### 핵심 패키지와 함수\n",
        "> scikit-learn\n",
        "- SGDClassifier : 확률적 경사 하강법을 사용한 분류 모델 생성\n",
        "  - loss : 확률적 경사 하강법으로 최적화할 손실 함수 지정\n",
        "    - 기본값 : 서포트 벡터 머신을 위한 'hinge' 손실 함수\n",
        "    - 'log' : 로지스틱 회귀\n",
        "  - penalty : 규제의 종류\n",
        "    - 기본값 :'l2'\n",
        "    - L1 : 'l1'\n",
        "    - alpha : 규제 강도\n",
        "      - 기본값 : 0.0001\n",
        "  - max_iter : 에포크 횟수, 기본값 = 1000\n",
        "  - tol : 반복을 멈출 조건, 기본값 = 0.001\n",
        "  - n_iter_no_change : 매개변수에서 지정한 에포크 동안 손실이 tol 만큼 줄어들지 않으면 알고리즘이 중단, 기본값 = 5\n"
      ],
      "metadata": {
        "id": "IvAqhrLIdeBV"
      }
    }
  ]
}