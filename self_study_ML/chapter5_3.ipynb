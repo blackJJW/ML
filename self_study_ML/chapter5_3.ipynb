{
  "nbformat": 4,
  "nbformat_minor": 0,
  "metadata": {
    "colab": {
      "name": "chapter5_3",
      "provenance": [],
      "authorship_tag": "ABX9TyMcaUvyaabWHripbBeC0Qt9",
      "include_colab_link": true
    },
    "kernelspec": {
      "name": "python3",
      "display_name": "Python 3"
    },
    "language_info": {
      "name": "python"
    }
  },
  "cells": [
    {
      "cell_type": "markdown",
      "metadata": {
        "id": "view-in-github",
        "colab_type": "text"
      },
      "source": [
        "<a href=\"https://colab.research.google.com/github/blackJJW/ML/blob/main/self_study_ML/chapter5_3.ipynb\" target=\"_parent\"><img src=\"https://colab.research.google.com/assets/colab-badge.svg\" alt=\"Open In Colab\"/></a>"
      ]
    },
    {
      "cell_type": "markdown",
      "source": [
        "# Book : '혼자 공부하는 머신러닝 + 딥러닝', 박해선 지음, 한빛미디어"
      ],
      "metadata": {
        "id": "9Vg_dTbBNcbk"
      }
    },
    {
      "cell_type": "markdown",
      "source": [
        "# 05-3 트리의 앙상블"
      ],
      "metadata": {
        "id": "IBDErzocNEmz"
      }
    },
    {
      "cell_type": "markdown",
      "source": [
        "## 정형 데이터와 비정형 데이터\n",
        "- 정형 데이터(structured data) : csv와 같이 어떤 구조로 되어있는 데이터\n",
        "  - CSV, 데이터베이스, 엑셀에 저장하기 쉬움\n",
        "- 비정형 데이터(unstructured data) : 데이터베이스나 엑셀로 표현하기 어려운 데이터\n",
        "  - 텍스트 에디터, 사진, 음악"
      ],
      "metadata": {
        "id": "XqdJc19cNvLn"
      }
    },
    {
      "cell_type": "markdown",
      "source": [
        "> 텍스트나 사진을 데이터베이스에 저장 가능한가?\n",
        "- 저장 가능.\n",
        "- 데이터베이스 중에는 구조적이지 않은 데이터를 저장하는 데 편리하도록 발전한 것이 많음.\n",
        "- NoSQL : 엑셀이나 CSV에 담기 어려운 텍스트나 JSON 데이터를 저장하는 데 용이."
      ],
      "metadata": {
        "id": "-gDKy6wVOWwl"
      }
    },
    {
      "cell_type": "markdown",
      "source": [
        "- 정형 데이터를 다루는 데 가장 뛰어난 성과를 내는 알고리즘 : 앙상블 학습(ensemble learning)\n",
        "  - 대부분 결정 트리 기반"
      ],
      "metadata": {
        "id": "KT3VORDTO-kk"
      }
    },
    {
      "cell_type": "markdown",
      "source": [
        "## 랜덤 포레스트"
      ],
      "metadata": {
        "id": "aNLSqSC8PNxe"
      }
    },
    {
      "cell_type": "markdown",
      "source": [
        "- 랜덤 포레스트(Random Forest) : 앙상블 학습의 대표 주자 중 하나로 안정적인 성능 덕분에 널리 사용.\n",
        "  - 결정 트리를 랜덤하게 만들어 결정 트리의 숲을 생성\n",
        "  - 각 결졍 트리의 예측을 사용해 최종 예측 생성"
      ],
      "metadata": {
        "id": "sXE6g0LWPROv"
      }
    },
    {
      "cell_type": "markdown",
      "source": [
        "- ex) 1000개 가방에서 100개씩 샘플을 뽑는다면 먼저 1개를 뽀복, 뽑았던 1개를 다시 가방에 넣음.\n",
        "  - 이런 식으로 계속해서 100개를 가방에서 뽑으면 중복된 샘플을 뽑을 수 있음.\n",
        "  - 이럴게 만들어진 샘플을 부트스트랩 샘플(bootstrap sample)\n",
        "- 기본적으로 부트스트랩 샘플은 훈련 세트의 크기와 같게 만듬.\n",
        "  - 1000개 가방에서 중복하여 1000개의 샘플을 뽑기 때문데 부트스트랩 샘플은 훈련 세트와 크기가 같음\n"
      ],
      "metadata": {
        "id": "QRbatJo-PtKS"
      }
    },
    {
      "cell_type": "markdown",
      "source": [
        "> 부트스트랩\n",
        "- 데이터 세트에서 중복을 허용하여 데이터를 샘플링하는 방식을 의미.\n",
        "- 부트스트랩 샘플이란 부트스트랩 방식으로 샘플링하여 분류한 데이터라는 의미."
      ],
      "metadata": {
        "id": "rsfif97jRBtP"
      }
    },
    {
      "cell_type": "markdown",
      "source": [
        "- 각 노드를 분할할 때 전체 특성 중에서 일부 특성을 무작위로 고른 다음 이 중에서 최선의 분할을 찾음.\n",
        "- 분류 모델인 RandomForestClassifier는 기본적으로 전체 특성 개수의 제곱근만큼의 특성을 선택.\n",
        "  - 4개의 특성이 있다면 노드마다 2개를 랜덤하게 선택하여 사용\n",
        "  - 다만, 회귀 모델인 RandomForestRegressor는 전체 특성을 사용"
      ],
      "metadata": {
        "id": "ftnX5IUoRVrA"
      }
    },
    {
      "cell_type": "markdown",
      "source": [
        "- 랜덤 포레스트는 랜덤하게 선택한 샘플과 특성을 사용하기 때문에 훈련 세트에 과대적합되는 것을 막아주고 검증 세트와 테스트 세트에서 안정적인 성능을 얻을 수 있음."
      ],
      "metadata": {
        "id": "tmL1W5SKSAJk"
      }
    },
    {
      "cell_type": "code",
      "source": [
        "import numpy as np\n",
        "import pandas as pd\n",
        "from sklearn.model_selection import train_test_split\n",
        "wine = pd.read_csv('https://bit.ly/wine_csv_data')\n",
        "data = wine[['alcohol', 'sugar', 'pH']].to_numpy()\n",
        "target = wine['class'].to_numpy()\n",
        "train_input, test_input, train_target, test_target = train_test_split(data, target, test_size=0.2, random_state=42)"
      ],
      "metadata": {
        "id": "A2ptiZgpSROi"
      },
      "execution_count": 3,
      "outputs": []
    },
    {
      "cell_type": "markdown",
      "source": [
        "- cross_validate()를 사용해 교차 검증 수행\n",
        "- RandomForestClassifier : 기본적으로 100개의 결정 트리를 사용하므로 n_jobs=-1로 지정하여 모든 CPU 코어를 사용하는 것이 좋음.\n",
        "- return_train_score를 True로 지정하면 검증 점수 뿐만 아니라 훈련 세트에 대한 점수도 같이 반환.\n",
        "  - 기본값 = False\n",
        "  - 훈련 세트와 검증 세트를 비교하면 과대적합을 파악하는 데 용이"
      ],
      "metadata": {
        "id": "FKcPadRbUd1o"
      }
    },
    {
      "cell_type": "code",
      "source": [
        "from sklearn.model_selection import cross_validate\n",
        "from sklearn.ensemble import RandomForestClassifier\n",
        "rf = RandomForestClassifier(n_jobs=-1, random_state=42)\n",
        "scores = cross_validate(rf, train_input, train_target, return_train_score = True, n_jobs=-1)\n",
        "print(np.mean(scores['train_score']), np.mean(scores['test_score']))"
      ],
      "metadata": {
        "colab": {
          "base_uri": "https://localhost:8080/"
        },
        "id": "ZbOec3neV4Dp",
        "outputId": "a756f09e-2662-4127-9626-cc9e6412d853"
      },
      "execution_count": 4,
      "outputs": [
        {
          "output_type": "stream",
          "name": "stdout",
          "text": [
            "0.9973541965122431 0.8905151032797809\n"
          ]
        }
      ]
    },
    {
      "cell_type": "markdown",
      "source": [
        "- 출력된 결과를 보면 훈련 세트에 다소 과적합"
      ],
      "metadata": {
        "id": "jvFQZ3FWkcME"
      }
    },
    {
      "cell_type": "markdown",
      "source": [
        "- 랜덤 포레스트는 결정 트리의 앙상블이기 때문에 DecisionTreeClassifier가 제공하는 중요한 매개변수를 모두 제공.\n",
        "- 결정 트리의 큰 장점 중 하나인 특성 중요도를 계산.\n",
        "  - 랜덤 포레스트의 특성 중요도는 각 결정 트리의 특성 중요도를 취합."
      ],
      "metadata": {
        "id": "VRNl3GAzkkVg"
      }
    },
    {
      "cell_type": "code",
      "source": [
        "rf.fit(train_input, train_target)\n",
        "print(rf.feature_importances_)"
      ],
      "metadata": {
        "colab": {
          "base_uri": "https://localhost:8080/"
        },
        "id": "DZOdaPdBk-6m",
        "outputId": "26e66eaf-aac5-4917-cf0b-126a98ac786f"
      },
      "execution_count": 6,
      "outputs": [
        {
          "output_type": "stream",
          "name": "stdout",
          "text": [
            "[0.23167441 0.50039841 0.26792718]\n"
          ]
        }
      ]
    },
    {
      "cell_type": "markdown",
      "source": [
        "- 랜덤 포레스트가 특성의 일부를 랜덤하게 선택하여 결정 트리를 훈련.\n",
        "- 그 결과 하나의 특성에 과도하게 집중하지 않고 좀 더 많은 특성이 훈련에 기여할 기회를 얻음.\n",
        "- 이는 과대적합을 줄이고 일반화 성능을 높이는 데 도움."
      ],
      "metadata": {
        "id": "KwpWwhYnlOcg"
      }
    },
    {
      "cell_type": "markdown",
      "source": [
        "- RandomForestClassifier\n",
        "  - 자체적으로 모델을 평가하는 점수를 얻을 수 있다.\n",
        "  - 훈련 세트에서 중복을 허용하여 부트스트랩 샘플을 만들어 결정 트리를 훈련.\n",
        "    - 이 때 부트스트랩 샘플에 포합되지 않고 남는 샘플이 존재.\n",
        "      - 이런 샘플을 OOB(out of bag) 샘플이고 함.\n",
        "      - 이 샘플을 이용해여 부트스트랩 샘플로 훈련한 결정 트리를 평가 가능.\n",
        "  - 이 점수를 얻으려면 RandomForestClassifier 클래스의 oob_score 매개변수를 True로 지정해야 함.\n",
        "    - 이렇게 하면 랜덤 포레스트는 각 결정 트리의 OOB 점수를 평균하여 출력."
      ],
      "metadata": {
        "id": "qwMaWvZlmEoW"
      }
    },
    {
      "cell_type": "code",
      "source": [
        "rf = RandomForestClassifier(oob_score =True, n_jobs=-1, random_state=42)\n",
        "rf.fit(train_input, train_target)\n",
        "print(rf.oob_score_)"
      ],
      "metadata": {
        "colab": {
          "base_uri": "https://localhost:8080/"
        },
        "id": "vKUutyXL053S",
        "outputId": "ce963a0a-1d7d-48fd-be04-86d4c6bd8daf"
      },
      "execution_count": 7,
      "outputs": [
        {
          "output_type": "stream",
          "name": "stdout",
          "text": [
            "0.8934000384837406\n"
          ]
        }
      ]
    },
    {
      "cell_type": "markdown",
      "source": [
        "- OOB 점수를 사용하면 교차 검증을 대신할 수 있어서 결과적으로 훈련 세트에 더 많은 샘플을 사용 가능."
      ],
      "metadata": {
        "id": "firXBCoZ1JBb"
      }
    },
    {
      "cell_type": "markdown",
      "source": [
        "## 엑스트라 트리\n",
        "- 엑스트라 트리(extra tree)는 랜덤 포레스트와 비슷하게 동작.\n",
        "- 전체 특성 중에 일부 특성을 램덤하게 선택하여 노드를 분할하는 데 사용"
      ],
      "metadata": {
        "id": "PWD4unWX1UUG"
      }
    },
    {
      "cell_type": "markdown",
      "source": [
        "- 랜덤 포레스트와 엑스트라 트리의 차이점은 부트스트랩 샘플을 사용하지 않는다는 점.\n",
        "  - 결정 트리를 만들 때 전체 훈련 세트를 사용\n",
        "  - 대신 노드를 분할할 대 가장 좋은 분할을 찾는것이 아니라 무작위로 분할.\n"
      ],
      "metadata": {
        "id": "O8C39UNm2ran"
      }
    },
    {
      "cell_type": "markdown",
      "source": [
        "- 엑스트라 트리가 사용하는 결정 트리가 splitter='random'인 결정 트리\n",
        "- 하나이 결정 트리에서 특성을 무작위로 분할한다면 성능이 낮아지겠지만 많은 트리를 앙상블하기 때문에 과대적합을 막고 검증 세트의 점수를 높이는 효과."
      ],
      "metadata": {
        "id": "DmeefZfg5WSv"
      }
    },
    {
      "cell_type": "code",
      "source": [
        "from sklearn.ensemble import ExtraTreesClassifier\n",
        "et = ExtraTreesClassifier(n_jobs=-1, random_state=42)\n",
        "scores = cross_validate(et, train_input, train_target, \n",
        "                        return_train_score=True, n_jobs=-1)\n",
        "print(np.mean(scores['train_score']), np.mean(scores['test_score']))"
      ],
      "metadata": {
        "colab": {
          "base_uri": "https://localhost:8080/"
        },
        "id": "EtaqdAqw5vEO",
        "outputId": "d3195634-aa1e-49ab-ffc4-6a5ececa596d"
      },
      "execution_count": 8,
      "outputs": [
        {
          "output_type": "stream",
          "name": "stdout",
          "text": [
            "0.9974503966084433 0.8887848893166506\n"
          ]
        }
      ]
    },
    {
      "cell_type": "markdown",
      "source": [
        "- 보통 엑스트라 트리가 무작위성이 좀 더 크기 때문에 랜점 포레스트보다 더 많은 결정 트리를 훈련해야 함.\n",
        "- 하지만 랜덤하게 노드를 분할하기 때문에 빠른 계산 속도가 엑스트라 트리의 장점"
      ],
      "metadata": {
        "id": "Ftx6lDwe62Md"
      }
    },
    {
      "cell_type": "markdown",
      "source": [
        "> 결정 트리는 최적의 분할을 찾는 데 시간을 많이 소모.\n",
        "- 특히 고려 사항이 많을 때\n",
        "- 만약 무작위로 나눈다면 훨씬 빨리 트리를 구성하는 것이 가능."
      ],
      "metadata": {
        "id": "J8Hu2JMx9HIZ"
      }
    },
    {
      "cell_type": "markdown",
      "source": [
        "- 엑스트라 트리도 랜덤 포레스트와 같이 특성 중요도 제공"
      ],
      "metadata": {
        "id": "8G-em4M4Dv1g"
      }
    },
    {
      "cell_type": "code",
      "source": [
        "et.fit(train_input, train_target)\n",
        "print(et.feature_importances_)"
      ],
      "metadata": {
        "colab": {
          "base_uri": "https://localhost:8080/"
        },
        "id": "6n0GSUxrD3d1",
        "outputId": "6f3efd69-b2d0-4e87-e0a8-e23e59c69ae0"
      },
      "execution_count": 9,
      "outputs": [
        {
          "output_type": "stream",
          "name": "stdout",
          "text": [
            "[0.20183568 0.52242907 0.27573525]\n"
          ]
        }
      ]
    },
    {
      "cell_type": "markdown",
      "source": [
        "- 엑스트라 트리의 회귀 버전은 ExtraTreeRegressor 클래스"
      ],
      "metadata": {
        "id": "XqKPLDebEEFQ"
      }
    },
    {
      "cell_type": "markdown",
      "source": [
        "## 그레디언트 부스팅\n",
        " "
      ],
      "metadata": {
        "id": "VCWuqaTHEN72"
      }
    },
    {
      "cell_type": "markdown",
      "source": [
        "- 그레디언트 부스팅(gradient boosting) : 깊이가 얕은 결정 트리를 사용하여 이전 트리의 오차를 보완하는 방식으로 앙상블을 하는 방법.\n",
        "- 사이킷런의 GradientBoostingClassifier는 기본적으로 깊이가 3인 트리를 100개 사용.\n",
        "- 깊이가 얕은 결정 트리를 사용하기 때문데 과대적합에 강하고 일반적으로 높은 일반화 성능을 기대 가능."
      ],
      "metadata": {
        "id": "hc-ltr3XE8cp"
      }
    },
    {
      "cell_type": "markdown",
      "source": [
        "- 경사 하강법을 사용하여 트리를 앙상블에 추가\n",
        "- 분류에서는 로지스틱 손실 함수를 사용하고 회귀에서는 평군 제곱 오차 함수를 사용"
      ],
      "metadata": {
        "id": "RU0S4QMBFc2O"
      }
    },
    {
      "cell_type": "markdown",
      "source": [
        "- 경사 하강법은 손실 함수를 산으로 정의하고 가장 낮은 곳을 찾아 내려노는 과정\n",
        "  - 가장 낮은 곳을 찾아 내려오는 방법은 모델의 가중치와 절편을 조금씩 바꾸는 것.\n",
        "- 그레디언트 부스팅은 결정트리를 계속 추가하면서 가장 낮은 곳을 찾아 이동\n",
        "  - 깊이가 낮은 트리를 이용\n",
        "  - 학습률 매개변수로 속도를 조절"
      ],
      "metadata": {
        "id": "dp0Vkf5rGHaZ"
      }
    },
    {
      "cell_type": "code",
      "source": [
        "from sklearn.ensemble import GradientBoostingClassifier\n",
        "gb = GradientBoostingClassifier(random_state=42)\n",
        "scores = cross_validate(gb, train_input, train_target, \n",
        "                        return_train_score=True, n_jobs=-1)\n",
        "print(np.mean(scores['train_score']), np.mean(scores['test_score']))"
      ],
      "metadata": {
        "colab": {
          "base_uri": "https://localhost:8080/"
        },
        "id": "Tg1UBB3PHmUX",
        "outputId": "eb699ccd-8adc-4d03-c8f0-2ade9f775809"
      },
      "execution_count": 10,
      "outputs": [
        {
          "output_type": "stream",
          "name": "stdout",
          "text": [
            "0.8881086892152563 0.8720430147331015\n"
          ]
        }
      ]
    },
    {
      "cell_type": "markdown",
      "source": [
        "- 과대적합이 되지 않음.\n",
        "- 그레디언트 부스팅은 결정 트리의 개수를 늘려도 과대적합에 매우 강함.\n",
        "- 학습률을 증가시키고 트리의 개수를 느리면 성능이 조금 더 향상될 수 있음.\n"
      ],
      "metadata": {
        "id": "PQGyXnzwHlJe"
      }
    },
    {
      "cell_type": "code",
      "source": [
        "gb = GradientBoostingClassifier(n_estimators = 500, learning_rate = 0.2, random_state=42)\n",
        "scores = cross_validate(gb, train_input, train_target, return_train_score=True, n_jobs=-1)\n",
        "print(np.mean(scores['train_score']), np.mean(scores['test_score']))"
      ],
      "metadata": {
        "colab": {
          "base_uri": "https://localhost:8080/"
        },
        "id": "dMGpuzbNJlXq",
        "outputId": "1fef4264-7fee-4d55-9bc7-78244a0ba022"
      },
      "execution_count": 12,
      "outputs": [
        {
          "output_type": "stream",
          "name": "stdout",
          "text": [
            "0.9464595437171814 0.8780082549788999\n"
          ]
        }
      ]
    },
    {
      "cell_type": "code",
      "source": [
        "gb.fit(train_input, train_target)\n",
        "print(gb.feature_importances_)"
      ],
      "metadata": {
        "colab": {
          "base_uri": "https://localhost:8080/"
        },
        "id": "tZvPRzybM4G4",
        "outputId": "c3f88770-90b5-44f8-e621-eb8a3d766617"
      },
      "execution_count": 13,
      "outputs": [
        {
          "output_type": "stream",
          "name": "stdout",
          "text": [
            "[0.15872278 0.68010884 0.16116839]\n"
          ]
        }
      ]
    },
    {
      "cell_type": "markdown",
      "source": [
        "- 매개변수 subsample\n",
        "  - 기본값 = 1.0 -> 전체 훈련 세트 사용\n",
        "  - < 1 -> 훈련 세트의 일부 사용"
      ],
      "metadata": {
        "id": "HdcBtDLHMh3U"
      }
    },
    {
      "cell_type": "markdown",
      "source": [
        "- 일반적으로 그레디언트 부스팅이 랜덤 포레스트보다 조금 더 좋은 성능을 얻을 수 있음.\n",
        "- 하지만 순서대로 트리를 추가하기에 속도가 느림.\n",
        "  - GradientBoosingClassifier에는 n_jobs 가 존재하지 않음.\n",
        "- GradientBoosting의 회귀 버전은 GradientBoostingRegressor"
      ],
      "metadata": {
        "id": "8g77wduqTcus"
      }
    },
    {
      "cell_type": "markdown",
      "source": [
        "- 그레디언트 부스팅의 속도와 성능을 더욱 개선한 것이 히스토그램 기반 그레디언트 부스팅 "
      ],
      "metadata": {
        "id": "RCzU88fyWiys"
      }
    },
    {
      "cell_type": "markdown",
      "source": [
        "## 히스토그램 기반 그레디언트 부스팅\n"
      ],
      "metadata": {
        "id": "HobHym7gXGSV"
      }
    },
    {
      "cell_type": "markdown",
      "source": [
        "- 히스토그램 기반 그레디언트 부스팅(histogram-based gradient boosting) : 정형 데이터를 다루는 머신러닝 알고리즘 중에 가장 인기가 높은 알고리즘\n",
        "- 입력 특성을 256개의 구간으로 나눔.\n",
        "  - 따라서 노드를 분할할 때 최적의 분할을 매우 빠르게 찾을 수 있음.\n",
        "  - 256개의 구간 중 하나를 떼어 놓고 누락된 값을 위해서 사용.\n",
        "  - 따라서 입력에 누락된 특성이 있더라도 이를 따로 전처리할 필요는 없음."
      ],
      "metadata": {
        "id": "71YWnNk8abJv"
      }
    },
    {
      "cell_type": "markdown",
      "source": [
        "- HistGradientBoostingClassifier : 기본 매개변수에서 안정적인 성능을 얻을 수 있음.\n",
        "  - max_iter : 반복횟수 지정"
      ],
      "metadata": {
        "id": "7PSTutg3dL_M"
      }
    },
    {
      "cell_type": "code",
      "source": [
        "from sklearn.experimental import enable_hist_gradient_boosting\n",
        "from sklearn.ensemble import HistGradientBoostingClassifier\n",
        "hgb = HistGradientBoostingClassifier(random_state=42)\n",
        "scores = cross_validate(hgb, train_input, train_target,\n",
        "                        return_train_score=True)\n",
        "print(np.mean(scores['train_score']), np.mean(scores['test_score']))"
      ],
      "metadata": {
        "colab": {
          "base_uri": "https://localhost:8080/"
        },
        "id": "S3R4fATVdkK4",
        "outputId": "62e68e27-0600-494e-b2d6-bed6cdc18dbb"
      },
      "execution_count": 14,
      "outputs": [
        {
          "output_type": "stream",
          "name": "stderr",
          "text": [
            "/usr/local/lib/python3.7/dist-packages/sklearn/experimental/enable_hist_gradient_boosting.py:17: UserWarning: Since version 1.0, it is not needed to import enable_hist_gradient_boosting anymore. HistGradientBoostingClassifier and HistGradientBoostingRegressor are now stable and can be normally imported from sklearn.ensemble.\n",
            "  \"Since version 1.0, \"\n"
          ]
        },
        {
          "output_type": "stream",
          "name": "stdout",
          "text": [
            "0.9321723946453317 0.8801241948619236\n"
          ]
        }
      ]
    },
    {
      "cell_type": "markdown",
      "source": [
        "- 과대적합을 잘 억제하면서 그레이디언트 부스팅보다 조금 더 높은 성능을 제고.\n",
        "- 특성 중요도 계산 : permutation_importance()\n",
        "  - 특성을 하나씩 랜덤하게 섞어서 모델의 성능이 변화하는지를 관찰하여 어떤 특성이 중요한지를 계산.\n",
        "  - n_repeats : 랜덤하게 섞을 횟수 지정\n",
        "  "
      ],
      "metadata": {
        "id": "fnHu5vtxeWLe"
      }
    },
    {
      "cell_type": "code",
      "source": [
        "from sklearn.inspection import permutation_importance\n",
        "\n",
        "hgb.fit(train_input, train_target)\n",
        "result = permutation_importance(hgb, train_input, train_target,\n",
        "                                n_repeats=10, random_state=42, n_jobs=-1)\n",
        "print(result.importances_mean)"
      ],
      "metadata": {
        "colab": {
          "base_uri": "https://localhost:8080/"
        },
        "id": "X6lH5pOWftHF",
        "outputId": "9dcff297-c27f-4d17-a2a9-fcb3dcd5276c"
      },
      "execution_count": 15,
      "outputs": [
        {
          "output_type": "stream",
          "name": "stdout",
          "text": [
            "[0.08876275 0.23438522 0.08027708]\n"
          ]
        }
      ]
    },
    {
      "cell_type": "markdown",
      "source": [
        "- permutation_importance()\n",
        "  - (특성 중요도(importances), 평균(importances_mean), 표준편차(importances_std))"
      ],
      "metadata": {
        "id": "--X2SYz-gIIs"
      }
    },
    {
      "cell_type": "code",
      "source": [
        "result = permutation_importance(hgb, test_input, test_target,\n",
        "                                n_repeats=10, random_state=42, n_jobs=-1)\n",
        "print(result.importances_mean)"
      ],
      "metadata": {
        "colab": {
          "base_uri": "https://localhost:8080/"
        },
        "id": "uP6QGGgugZ7D",
        "outputId": "222c6f0f-5e38-4dea-c0f3-9ce8dba89f30"
      },
      "execution_count": 16,
      "outputs": [
        {
          "output_type": "stream",
          "name": "stdout",
          "text": [
            "[0.05969231 0.20238462 0.049     ]\n"
          ]
        }
      ]
    },
    {
      "cell_type": "code",
      "source": [
        "hgb.score(test_input, test_target)"
      ],
      "metadata": {
        "colab": {
          "base_uri": "https://localhost:8080/"
        },
        "id": "KeXjYG_xgull",
        "outputId": "0d6ba7d2-8e6c-4f03-81bd-b10c53ad8132"
      },
      "execution_count": 17,
      "outputs": [
        {
          "output_type": "execute_result",
          "data": {
            "text/plain": [
              "0.8723076923076923"
            ]
          },
          "metadata": {},
          "execution_count": 17
        }
      ]
    },
    {
      "cell_type": "markdown",
      "source": [
        "- 회귀 버전 : HistGradientBoostingRegressor"
      ],
      "metadata": {
        "id": "k9xblSULg6BM"
      }
    },
    {
      "cell_type": "markdown",
      "source": [
        "### XGBoost"
      ],
      "metadata": {
        "id": "MvLyQOT4hBPW"
      }
    },
    {
      "cell_type": "markdown",
      "source": [
        "- 다양한 부스팅 알고리즘 지원\n",
        "- tree_method = 'hist'로 지정하면 히스토그램 기반 그레이디언트 부스팅 사용가능."
      ],
      "metadata": {
        "id": "Db_8qa_XhEct"
      }
    },
    {
      "cell_type": "code",
      "source": [
        "from xgboost import XGBClassifier\n",
        "xgb = XGBClassifier(tres_method='hist', random_state=42)\n",
        "scores = cross_validate(xgb, train_input, train_target, return_train_score=True)\n",
        "print(np.mean(scores['train_score']), np.mean(scores['test_score']))"
      ],
      "metadata": {
        "colab": {
          "base_uri": "https://localhost:8080/"
        },
        "id": "wGDc7cj7hSUs",
        "outputId": "5ca189d3-4837-4c73-f9b5-239a1cfd76ef"
      },
      "execution_count": 18,
      "outputs": [
        {
          "output_type": "stream",
          "name": "stdout",
          "text": [
            "0.8827690284750664 0.8708899089361072\n"
          ]
        }
      ]
    },
    {
      "cell_type": "markdown",
      "source": [
        "### LightGBM"
      ],
      "metadata": {
        "id": "hA7r-ugOhxhM"
      }
    },
    {
      "cell_type": "code",
      "source": [
        "from lightgbm import LGBMClassifier\n",
        "lgb = LGBMClassifier(random_state=42)\n",
        "scores = cross_validate(lgb, train_input, train_target, \n",
        "                        return_train_score = True, n_jobs=-1)\n",
        "print(np.mean(scores['train_score']), np.mean(scores['test_score']))"
      ],
      "metadata": {
        "colab": {
          "base_uri": "https://localhost:8080/"
        },
        "id": "mc5g0BRAh1YG",
        "outputId": "9eee2fc7-5f42-4582-a643-85ce53872f25"
      },
      "execution_count": 20,
      "outputs": [
        {
          "output_type": "stream",
          "name": "stdout",
          "text": [
            "0.9338079582727165 0.8789710890649293\n"
          ]
        }
      ]
    },
    {
      "cell_type": "markdown",
      "source": [
        "## 마무리"
      ],
      "metadata": {
        "id": "hP3RSG8Zi4z9"
      }
    },
    {
      "cell_type": "markdown",
      "source": [
        "### 키워드로 끝내는 핵심 포인트\n",
        "- 앙상블 학습 : 더 좋은 예측 결과를 만들기 위해 여러 개의 모델을 훈련하는 머신러닝 알고리즘\n",
        "- 랜덤 포레스트 : 대표적인 결정 트리 기반의 앙상블 학습 방법\n",
        "  - 부트스트랩 샘플을 사용하고 랜덤하게 일부 특성을 선택하여 트리를 만드는 것이 특징\n",
        "- 엑스트라 트리 : 랜덤 포레스트와 비슷하게 결정 트리를 사용하여 앙상블 모델을 만들지만 부트슽랩 샘플을 사용하지 않음.\n",
        "  - 랜덤하게 노드를 분할해 과대적합을 감소\n",
        "- 그레이디언트 부스팅 : 랜덤 포레스트나 엑스트라 트리와 달리 결정 트리를 연속저그로 추가하여 손실 함수를 최소화하는 앙상블 방법\n",
        "  - 훈련 속도가 조금 느리지만 더 좋은 성능 기대\n",
        "  - 그레이디언트의 속도를 향상 시킨 것이 히스토그램 기반 그레이디언트 부스팅\n",
        "    - 안정적인 결과와 높은 성능"
      ],
      "metadata": {
        "id": "U1GsYSwbi8aG"
      }
    },
    {
      "cell_type": "markdown",
      "source": [
        "### 핵심 패키지와 함수\n"
      ],
      "metadata": {
        "id": "qtgAWa3Jlp4l"
      }
    },
    {
      "cell_type": "markdown",
      "source": [
        "#### scikit-learn"
      ],
      "metadata": {
        "id": "aLfYYjTspF4_"
      }
    },
    {
      "cell_type": "markdown",
      "source": [
        "\n",
        "> RandomForestClassifier : 랜덤 포레스트 분류 클래스\n",
        "  - n_estimators : 앙상블을 구성할 트리의 개수를 지정\n",
        "    - 기본값 = 100\n",
        "  - criterion : 불순도 지정\n",
        "    - 기본값 = 'gini' : 지니 불순도\n",
        "    - 'entropy' : 엔트로피 불순도\n",
        "  - max_depth : 트리가 성장할 최대 깊이를 지정\n",
        "    - 기본값 = None : 리프노드가 순수하거나 min_samples_split보다 샘플 개수가 적을 때까지 성장\n",
        "  - min_samples_split : 노드를 나누기 위한 최소 샘플 개수\n",
        "    - 기본값 = 2\n",
        "  - max_features : 최적의 분할을 위해 탐색할 특성의 개수를 지정\n",
        "    - 기본값 = 'auto' : 특성 개수의 제곱근\n",
        "  - bootstrap : 부트스트랩 샘플을 사용할지 지정\n",
        "    - 기본값 = True\n",
        "  - oob_score ; OOB 샘플을 사용하여 훈련한 모델을 평가할지 지정\n",
        "    - 기본값 = False\n",
        "  - n_jobs : 병렬 실행에 사용할 CPU 코어 수 지정\n",
        "    - 기본값 = 1: 하나의 코어\n",
        "    - -1 : 모든 코어"
      ],
      "metadata": {
        "id": "7voLwqLvmhsU"
      }
    },
    {
      "cell_type": "markdown",
      "source": [
        "> ExtraTreesClassifier : 엑스트라 트리 분류 클래스\n",
        "- n_estimator, criterion, max_depth, min_samples_split, max_features -> 랜덤 포레스트와 동일\n",
        "- boostrap : 부트스트랩 샘플을 사용할지 지정.\n",
        "  - 기본값 = False\n",
        "- oob_score : OOB 샘플을 사용하여 훈련한 모델을 평가할지 지정\n",
        "  - 기본값 = False\n",
        "- n_jobs : 병렬 실행에 사용할 CPU 코어 수 지정\n",
        "  - 기본값 = 1: 하나의 코어\n",
        "  - -1 : 모든 코어"
      ],
      "metadata": {
        "id": "_HRShzUVpJDD"
      }
    },
    {
      "cell_type": "markdown",
      "source": [
        "> GradientBoostingClassifier : 그레이디언트 부스팅 분류 클래스\n",
        "- loss : 손실 함수 지정\n",
        "  - 기본값 = 'deviance'(로지스틱 손실 함수)\n",
        "- learning_rate : 트리가 앙상블에 기여하는 정도를 조절\n",
        "  - 기본값 = 0.1\n",
        "- n_estimators : 부스팅 단계를 수행하는 트리의 개수\n",
        "  - 기본값 = 100\n",
        "- subsample : 사용할 훈련 세트의 샘플 비율을 지정\n",
        "  - 기본값 = 1.0\n",
        "- max_depth : 개별 회귀 트리의 최대 깊이\n",
        "  - 기본값 = 3"
      ],
      "metadata": {
        "id": "jY5Pt32sqJUq"
      }
    },
    {
      "cell_type": "markdown",
      "source": [
        "> HistGradientBoostingClassifier : 히스토그램 기반 그레이디언트 부스팅 분류 클래스\n",
        "- learning_rate : 학습률, 감쇠율\n",
        "  - 기본값 = 0.1\n",
        "  - 1.0이면 감쇠가 전혀 없음\n",
        "- max_iter : 부스팅 단계를 수행하는 트리의 개수\n",
        "  - 기본값 = 100\n",
        "- amx_bins : 입력 데이터를 나눌 구간의 개수\n",
        "  - 기본값 = 255\n",
        "    - 이보다 크게 지정 불가\n",
        "  - 여기에 1개의 구간이 누락된 값을 위해 추가"
      ],
      "metadata": {
        "id": "SM8N20XTq-HS"
      }
    }
  ]
}