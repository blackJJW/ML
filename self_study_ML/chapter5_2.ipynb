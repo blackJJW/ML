{
  "nbformat": 4,
  "nbformat_minor": 0,
  "metadata": {
    "colab": {
      "name": "chapter5_2.ipynb",
      "provenance": [],
      "authorship_tag": "ABX9TyPbUlV8FtL2ZW8Bgq63zpeb",
      "include_colab_link": true
    },
    "kernelspec": {
      "name": "python3",
      "display_name": "Python 3"
    },
    "language_info": {
      "name": "python"
    }
  },
  "cells": [
    {
      "cell_type": "markdown",
      "metadata": {
        "id": "view-in-github",
        "colab_type": "text"
      },
      "source": [
        "<a href=\"https://colab.research.google.com/github/blackJJW/ML/blob/main/self_study_ML/chapter5_2.ipynb\" target=\"_parent\"><img src=\"https://colab.research.google.com/assets/colab-badge.svg\" alt=\"Open In Colab\"/></a>"
      ]
    },
    {
      "cell_type": "markdown",
      "source": [
        "# Book : '혼자 공부하는 머신러닝 + 딥러닝', 박해선 지음, 한빛미디어"
      ],
      "metadata": {
        "id": "VM__fcUw-a7E"
      }
    },
    {
      "cell_type": "markdown",
      "source": [
        "# 05-2 교차 검증과 그리드 서치"
      ],
      "metadata": {
        "id": "vc080GUr-r6H"
      }
    },
    {
      "cell_type": "markdown",
      "source": [
        "## 검증 세트\n",
        "- 테스트 세트를 사용하지 안흐면 모델이 과대적합인지 과소적합인지 판단하기 어려움.\n",
        "- 테스트 세트를 사용하지 않고 이를 측정하는 간단한 방법 -> 훈련 세트를 또 나누는 것.\n",
        "- 이를 데이터를 검증 세트(validation set)"
      ],
      "metadata": {
        "id": "UpxHbRHl-yhY"
      }
    },
    {
      "cell_type": "markdown",
      "source": [
        "- 훈련 세트에서 모델을 평가하고 검증 세트로 모델을 평가.\n",
        "- 테스트하고 싶은 매개변수를 바꿔가며 가장 좋은 모델을 선택.\n",
        "- 이 매개변수를 사용해 훈련 세트와 검증 세트를 합쳐 전체 훈련 데이터에서 모델을 다시 훈련.\n",
        "- 마지막에 테스트 세트에서 최종 점수를 평가."
      ],
      "metadata": {
        "id": "DV23dTzh_X38"
      }
    },
    {
      "cell_type": "code",
      "execution_count": 1,
      "metadata": {
        "id": "AS6Y9KaI-Fpd"
      },
      "outputs": [],
      "source": [
        "import pandas as pd\n",
        "wine = pd.read_csv('https://bit.ly/wine_csv_data')"
      ]
    },
    {
      "cell_type": "code",
      "source": [
        "data = wine[['alcohol', 'sugar', 'pH']].to_numpy()\n",
        "target = wine['class'].to_numpy()"
      ],
      "metadata": {
        "id": "LUeHFOdjA6pg"
      },
      "execution_count": 2,
      "outputs": []
    },
    {
      "cell_type": "code",
      "source": [
        "from sklearn.model_selection import train_test_split\n",
        "train_input, test_input, train_target, test_target = train_test_split(data, target, test_size = 0.2, random_state=42)"
      ],
      "metadata": {
        "id": "sIrKZ464BQAj"
      },
      "execution_count": 3,
      "outputs": []
    },
    {
      "cell_type": "code",
      "source": [
        "sub_input, val_input, sub_target, val_target = train_test_split(train_input, train_target, test_size = 0.2, random_state=42)"
      ],
      "metadata": {
        "id": "qQEgwDNHBkFm"
      },
      "execution_count": 4,
      "outputs": []
    },
    {
      "cell_type": "markdown",
      "source": [
        "- train_test_split 함수를 2번 적용하여, 훈련 세트와 검증 세트로 나눠 준 것"
      ],
      "metadata": {
        "id": "l6sm_FpfB5LG"
      }
    },
    {
      "cell_type": "code",
      "source": [
        "print(sub_input.shape, val_input.shape)"
      ],
      "metadata": {
        "colab": {
          "base_uri": "https://localhost:8080/"
        },
        "id": "943qTupxCED2",
        "outputId": "49643855-5544-40e3-f6db-4b2be3c74829"
      },
      "execution_count": 5,
      "outputs": [
        {
          "output_type": "stream",
          "name": "stdout",
          "text": [
            "(4157, 3) (1040, 3)\n"
          ]
        }
      ]
    },
    {
      "cell_type": "code",
      "source": [
        "from sklearn.tree import DecisionTreeClassifier\n",
        "dt = DecisionTreeClassifier(random_state=42)\n",
        "dt.fit(sub_input, sub_target)\n",
        "print(dt.score(sub_input, sub_target))\n",
        "print(dt.score(val_input, val_target))"
      ],
      "metadata": {
        "colab": {
          "base_uri": "https://localhost:8080/"
        },
        "id": "VsDe6GwuCaRF",
        "outputId": "3a4c0986-01a6-44a2-824a-6b2ecde25035"
      },
      "execution_count": 6,
      "outputs": [
        {
          "output_type": "stream",
          "name": "stdout",
          "text": [
            "0.9971133028626413\n",
            "0.864423076923077\n"
          ]
        }
      ]
    },
    {
      "cell_type": "markdown",
      "source": [
        "- 이 모델은 훈련 세트에 과대적합"
      ],
      "metadata": {
        "id": "E2IZn-gtC1eh"
      }
    },
    {
      "cell_type": "markdown",
      "source": [
        "## 교차 검증(cross validation)\n",
        "- 안정적인 검증 점수를 얻고 훈련에 더 많은 데이터를 사용 가능\n",
        "- 검증 세트를 떼어 내어 평가하는 과정을 여러 번 반복.\n",
        "- 그 다음 이 점수를 평균하여 최종 검증 점수를 얻음."
      ],
      "metadata": {
        "id": "oK74RipvC7is"
      }
    },
    {
      "cell_type": "markdown",
      "source": [
        "> 3-폴드 교차 검증\n",
        "- 훈련 세트를 세 부분으로 나눠서 교차 검증을 수행하는 것을 3-폴드 교차 검증.\n",
        "- 통칭 k-폴드 교차 검증(k-fold cross validation)\n",
        "- 훈련 세트를 몇 부분으로 나누냐에 따라 k-겹 교차 검증이라고 부름.\n",
        "- 보통 5-폴드, 10-폴드를 많이 사용.\n",
        "  - 데이터의 80 ~ 90%까지 훈련에 사용 가능\n",
        "  - 검증 세트가 줄어들지만 각 폴드에서 계산한 검증 점수를 평균하기 때문에 안정된 점수로 생각 가능.\n",
        "- cross_validate() : 교차 검증 함수"
      ],
      "metadata": {
        "id": "9pNCYfKbD8-r"
      }
    },
    {
      "cell_type": "code",
      "source": [
        "from sklearn.model_selection import cross_validate\n",
        "scores = cross_validate(dt, train_input, train_target)\n",
        "print(scores)"
      ],
      "metadata": {
        "colab": {
          "base_uri": "https://localhost:8080/"
        },
        "id": "IwRKutUdFPcs",
        "outputId": "d81b7475-491b-4588-8ea2-194e41558d8f"
      },
      "execution_count": 7,
      "outputs": [
        {
          "output_type": "stream",
          "name": "stdout",
          "text": [
            "{'fit_time': array([0.01163411, 0.01068687, 0.01692414, 0.01103592, 0.00983691]), 'score_time': array([0.00145602, 0.00140238, 0.00137901, 0.00128579, 0.00525594]), 'test_score': array([0.86923077, 0.84615385, 0.87680462, 0.84889317, 0.83541867])}\n"
          ]
        }
      ]
    },
    {
      "cell_type": "markdown",
      "source": [
        "- fit_time, score_time, test_score 키를 가진 딕셔너리를 반환.\n",
        "- 처음 2개의 키는 각각 모델을 훈련하는 시간과 검증하는 시간을 의미\n",
        "- 각 키마다 5개의 숫자가 담겨져 있음\n",
        "  - cross_validate() 함수는 기본적으로 5-폴드 교차 검증을 수행\n",
        "    - cv : 폴드 수 지정.\n",
        "- 교차 검증의 최종 점수는 test_score 키에 담긴 5개의 점수를 평균하여 얻음.\n",
        "  - 이름은 test_score지만 검증 폴드의 점수"
      ],
      "metadata": {
        "id": "paLOkxM6Fnvc"
      }
    },
    {
      "cell_type": "code",
      "source": [
        "import numpy as np\n",
        "print(np.mean(scores['test_score']))"
      ],
      "metadata": {
        "colab": {
          "base_uri": "https://localhost:8080/"
        },
        "id": "cSPLWryRIQqo",
        "outputId": "81b1d210-80c4-48cd-e366-a7718f701e4c"
      },
      "execution_count": 8,
      "outputs": [
        {
          "output_type": "stream",
          "name": "stdout",
          "text": [
            "0.855300214703487\n"
          ]
        }
      ]
    },
    {
      "cell_type": "markdown",
      "source": [
        "- 교차 검증을 수행하면 입력한 모델에서 얻을 수 있는 최상의 검증 점수를 가늠 가능.\n",
        "- cross_validate()는 훈련 세트를 섞어 폴드를 나누지 않음.\n",
        "  - 앞서 train_test_split() 함수로 전체 데이터를 섞은 후 훈련 세트를 준비했기 때문에 섞을 필요 없음.\n",
        "- 만약 훈련 세트를 섞으려면 분할기(splitter)를 지정"
      ],
      "metadata": {
        "id": "kpy1qxozInM-"
      }
    },
    {
      "cell_type": "markdown",
      "source": [
        "- 분할기는 교차 검증에서 폴드를 어떻게 나눌지 결정.\n",
        "- cross_validate() 함수는 기본적으로 회귀 모델일 경우 KFold 분할기를 사용, 분류 모델일 경우 타깃 클래스를 골고루 나누기 위해 StratifiedKFold를 사용."
      ],
      "metadata": {
        "id": "3a8Jj19BJVy0"
      }
    },
    {
      "cell_type": "code",
      "source": [
        "from sklearn.model_selection import StratifiedKFold\n",
        "scores = cross_validate(dt, train_input, train_target, cv=StratifiedKFold())\n",
        "print(np.mean(scores['test_score']))"
      ],
      "metadata": {
        "colab": {
          "base_uri": "https://localhost:8080/"
        },
        "id": "B7H_lhhuJtT2",
        "outputId": "33b856d4-cdbf-4a7c-8b28-e34ce1184490"
      },
      "execution_count": 9,
      "outputs": [
        {
          "output_type": "stream",
          "name": "stdout",
          "text": [
            "0.855300214703487\n"
          ]
        }
      ]
    },
    {
      "cell_type": "markdown",
      "source": [
        "- 만약, 훈련 세트를 섞은 후 10-폴드 교차 검증을 수행하려면 다음과 같이 한다."
      ],
      "metadata": {
        "id": "KIUOyFd1KJvE"
      }
    },
    {
      "cell_type": "code",
      "source": [
        "splitter = StratifiedKFold(n_splits=10, shuffle=True, random_state=42)\n",
        "scores = cross_validate(dt, train_input, train_target, cv=splitter)\n",
        "print(np.mean(scores['test_score']))"
      ],
      "metadata": {
        "colab": {
          "base_uri": "https://localhost:8080/"
        },
        "id": "O9ZfBQomKVAA",
        "outputId": "e8e028db-9053-4009-cc66-aa713354c55f"
      },
      "execution_count": 10,
      "outputs": [
        {
          "output_type": "stream",
          "name": "stdout",
          "text": [
            "0.8574181117533719\n"
          ]
        }
      ]
    },
    {
      "cell_type": "markdown",
      "source": [
        "- n_splits : 몇(k)폴드 교차 검증을 할 지 지정\n",
        "- KFold 클래스도 동일한 방식 사용 가능"
      ],
      "metadata": {
        "id": "empjHtHaK2ye"
      }
    },
    {
      "cell_type": "markdown",
      "source": [
        "## 하이퍼파라미터 튜닝"
      ],
      "metadata": {
        "id": "XNB_JA3aMExx"
      }
    },
    {
      "cell_type": "markdown",
      "source": [
        "- 모델 파라미터 : 머신러닝 모델이 학습하는 파라미터\n",
        "- 하이퍼파라미터 : 모델이 학습할 수 없어서 사용자가 지정해야만 하는 파라미터"
      ],
      "metadata": {
        "id": "mn8mwegHMKo8"
      }
    },
    {
      "cell_type": "markdown",
      "source": [
        "- 하이퍼파라미터 튜닝 작업\n",
        "  1. 라이브러리가 제공하는 기본값을 그대로 사용해 모델을 훈련.\n",
        "  2. 검증 세트의 점수나 교차 검증을 통해서 매개변수를 조금씩 바꿔 본다.\n",
        "  3. 모델마다 1 ~ 2개에서, 많게는 5 ~ 6개의 매개변수를 제공\n",
        "    - 매개변수를 바꿔가면서 모델을 훈련, 교차 검증을 수행   \n",
        "\n",
        "  > 사람의 개입 없이 하이퍼파라미터 튜닝을 자동으로 수행하는 기술을 'AutoML'   \n",
        "\n",
        "  - 여러 조합을 사용할 때 그리드 서치(Grid Search)를 사용.\n",
        "    - 사이킷런의 GridSearchCV 클래스는 하이퍼파라미터 탐색과 교차 검증을 한 번에 수행.\n",
        "    - 별도로 cross_validate() 호출 필요 없음. "
      ],
      "metadata": {
        "id": "qDakK_jiMlOW"
      }
    },
    {
      "cell_type": "markdown",
      "source": [
        "- ex) 기본 매개 변수를 사용한 결정 트리 모델에서 min_inpurity_decrease 매개변수의 최적값을 찾기\n",
        "  - 먼저 GridSearchCV 클래스를 임포트, 탐색할 매개변수와 탐색할 값의 리스트를 딕셔너리로 생성"
      ],
      "metadata": {
        "id": "QaCo6Q5zOXw1"
      }
    },
    {
      "cell_type": "code",
      "source": [
        "from sklearn.model_selection import GridSearchCV\n",
        "params = {'min_impurity_decrease' : [0.0001, 0.0002, 0.0003, 0.0004, 0.0005]}"
      ],
      "metadata": {
        "id": "oPtFjmcJPPNT"
      },
      "execution_count": 11,
      "outputs": []
    },
    {
      "cell_type": "markdown",
      "source": [
        "- GridSearchCV 클래스에 탐색 대상 모델과 params 변수를 전달하여 그리드 서치 객체를 생성"
      ],
      "metadata": {
        "id": "-YefmaRV5DHj"
      }
    },
    {
      "cell_type": "code",
      "source": [
        "gs = GridSearchCV(DecisionTreeClassifier(random_state=42), params, n_jobs=-1)"
      ],
      "metadata": {
        "id": "x3KRZiWSPs56"
      },
      "execution_count": 12,
      "outputs": []
    },
    {
      "cell_type": "markdown",
      "source": [
        "- gs 객체에 fit()을 호출\n",
        "- cv 매개변수 기본값 = 5 -> min_impurity_decrease 값마다 5-폴드 -> 총 25번 훈련\n",
        "- n_jobs : 병렬 실행할 CPU 코어 수 \n",
        "  - -1 : 모든 코어 사용\n"
      ],
      "metadata": {
        "id": "r9ffr-hM5sNa"
      }
    },
    {
      "cell_type": "code",
      "source": [
        "gs.fit(train_input, train_target)"
      ],
      "metadata": {
        "colab": {
          "base_uri": "https://localhost:8080/"
        },
        "id": "Kkv5M3pk6hvx",
        "outputId": "bc0527d0-2d9b-45e5-86fa-2525afcccba8"
      },
      "execution_count": 13,
      "outputs": [
        {
          "output_type": "execute_result",
          "data": {
            "text/plain": [
              "GridSearchCV(estimator=DecisionTreeClassifier(random_state=42), n_jobs=-1,\n",
              "             param_grid={'min_impurity_decrease': [0.0001, 0.0002, 0.0003,\n",
              "                                                   0.0004, 0.0005]})"
            ]
          },
          "metadata": {},
          "execution_count": 13
        }
      ]
    },
    {
      "cell_type": "markdown",
      "source": [
        "- 사이킷런의 그리드 서치는 훈련이 끝나면 25개의 모델 중에서 검증 점수가 가장 높은 모델의 매개변수 조합으로 전체 훈려 세읕에서 자동으로 다시 모델을 훈련\n",
        "- 이 모델은 gs객체의 best_estimator\\_속성에 저장\n",
        "- 일반 결정 트리에서 똑같이 사용가능"
      ],
      "metadata": {
        "id": "aqno6Ayv6vpR"
      }
    },
    {
      "cell_type": "code",
      "source": [
        "dt = gs.best_estimator_\n",
        "print(dt.score(train_input, train_target))"
      ],
      "metadata": {
        "colab": {
          "base_uri": "https://localhost:8080/"
        },
        "id": "Oem1lPU17KX6",
        "outputId": "3a50e456-7827-498c-ec3c-a6683991d3af"
      },
      "execution_count": 15,
      "outputs": [
        {
          "output_type": "stream",
          "name": "stdout",
          "text": [
            "0.9615162593804117\n"
          ]
        }
      ]
    },
    {
      "cell_type": "markdown",
      "source": [
        "- 그리드 서치로 찾은 최적의 매개변수는 best_params_ 속성에 저장"
      ],
      "metadata": {
        "id": "3PuHCPXn7W3v"
      }
    },
    {
      "cell_type": "code",
      "source": [
        "print(gs.best_params_)"
      ],
      "metadata": {
        "colab": {
          "base_uri": "https://localhost:8080/"
        },
        "id": "vYfDD3SO8joM",
        "outputId": "614ce526-4e96-4487-ed9b-60b60b9d7918"
      },
      "execution_count": 16,
      "outputs": [
        {
          "output_type": "stream",
          "name": "stdout",
          "text": [
            "{'min_impurity_decrease': 0.0001}\n"
          ]
        }
      ]
    },
    {
      "cell_type": "markdown",
      "source": [
        "- 각 매개변수에서 수행한 교차 검증의 평균점수는 cv_results_속성의 mean_test_score 키에 저장"
      ],
      "metadata": {
        "id": "c_X9ZeJ89BvO"
      }
    },
    {
      "cell_type": "code",
      "source": [
        "print(gs.cv_results_['mean_test_score'])"
      ],
      "metadata": {
        "colab": {
          "base_uri": "https://localhost:8080/"
        },
        "id": "JcFa25PM9Qkk",
        "outputId": "60b04615-808b-43c6-eb22-bc898e9e3218"
      },
      "execution_count": 17,
      "outputs": [
        {
          "output_type": "stream",
          "name": "stdout",
          "text": [
            "[0.86819297 0.86453617 0.86492226 0.86780891 0.86761605]\n"
          ]
        }
      ]
    },
    {
      "cell_type": "markdown",
      "source": [
        "- 넘파이 argmax() 사용하면 가장 큰 값의 인덱스를 추출\n",
        "- 이 인덱스를 통해 params 키에 저장된 매개변수 출력 가능\n",
        "- 이 값이 최상의 검증 점수를 만든 매개변수 조합"
      ],
      "metadata": {
        "id": "bYMPBuSZ9wlp"
      }
    },
    {
      "cell_type": "code",
      "source": [
        "best_index = np.argmax(gs.cv_results_['mean_test_score'])\n",
        "print(gs.cv_results_['params'][best_index]) "
      ],
      "metadata": {
        "colab": {
          "base_uri": "https://localhost:8080/"
        },
        "id": "N_XML9gu-Z1h",
        "outputId": "d8518623-45fb-4fa4-832f-74623b4c25ec"
      },
      "execution_count": 18,
      "outputs": [
        {
          "output_type": "stream",
          "name": "stdout",
          "text": [
            "{'min_impurity_decrease': 0.0001}\n"
          ]
        }
      ]
    },
    {
      "cell_type": "markdown",
      "source": [
        "- 이 과정을 정리\n",
        "  1. 먼저 탐색할 매개변수 지정.\n",
        "  2. 그다음 훈련 세트에서 그리드 서치를 수행하여 최상의 평균 검증 점수가 나오는 매개변수 조합을 찾음. 이 조합은 그리드 서치 객체에 저장\n",
        "  3. 그리드 서치는 최상의 매개변수에서 (교차 검증에 사용한 훈련 세트가 아니라) 전체 훈련 세트를 사용해 최종 모델을 훈련. 이 모델도 그리드 서치 객체에 저장"
      ],
      "metadata": {
        "id": "yvwarMMHAbMF"
      }
    },
    {
      "cell_type": "code",
      "source": [
        "params = {'min_impurity_decrease' : np.arange(0.0001, 0.001, 0.0001), \n",
        "          'max_depth' : range(5, 20, 1), # 정수만 사용 \n",
        "          'min_samples_split' : range(2, 100, 10)} # 정수만 사용"
      ],
      "metadata": {
        "id": "vT-4VvfoBXVz"
      },
      "execution_count": 19,
      "outputs": []
    },
    {
      "cell_type": "code",
      "source": [
        "gs = GridSearchCV(DecisionTreeClassifier(random_state=42), params, n_jobs=-1)\n",
        "gs.fit(train_input, train_target)"
      ],
      "metadata": {
        "colab": {
          "base_uri": "https://localhost:8080/"
        },
        "id": "dW77qsCZCI7Z",
        "outputId": "5833d581-18c0-4932-ddc1-841f965a4bda"
      },
      "execution_count": 20,
      "outputs": [
        {
          "output_type": "execute_result",
          "data": {
            "text/plain": [
              "GridSearchCV(estimator=DecisionTreeClassifier(random_state=42), n_jobs=-1,\n",
              "             param_grid={'max_depth': range(5, 20),\n",
              "                         'min_impurity_decrease': array([0.0001, 0.0002, 0.0003, 0.0004, 0.0005, 0.0006, 0.0007, 0.0008,\n",
              "       0.0009]),\n",
              "                         'min_samples_split': range(2, 100, 10)})"
            ]
          },
          "metadata": {},
          "execution_count": 20
        }
      ]
    },
    {
      "cell_type": "code",
      "source": [
        "print(gs.best_params_)"
      ],
      "metadata": {
        "colab": {
          "base_uri": "https://localhost:8080/"
        },
        "id": "c28kXrTECm2a",
        "outputId": "6ca9dcb9-0047-47d2-ae52-938254b7cd6f"
      },
      "execution_count": 21,
      "outputs": [
        {
          "output_type": "stream",
          "name": "stdout",
          "text": [
            "{'max_depth': 14, 'min_impurity_decrease': 0.0004, 'min_samples_split': 12}\n"
          ]
        }
      ]
    },
    {
      "cell_type": "code",
      "source": [
        "print(np.max(gs.cv_results_['mean_test_score']))"
      ],
      "metadata": {
        "colab": {
          "base_uri": "https://localhost:8080/"
        },
        "id": "CKk8ERrcCvXY",
        "outputId": "308a9d9a-8200-4b71-9989-b981d52eeff2"
      },
      "execution_count": 22,
      "outputs": [
        {
          "output_type": "stream",
          "name": "stdout",
          "text": [
            "0.8683865773302731\n"
          ]
        }
      ]
    },
    {
      "cell_type": "markdown",
      "source": [
        "### 랜덤 서치\n",
        "- 매개변수의 값이 수치일 때 값의 범위나 간격을 미리 정하기 어려울 수 있음.\n",
        "- 너무 많은 매개 변수 조건이 있어 그리드 서치 수행 시간이 오래 걸릴 수 있음.\n"
      ],
      "metadata": {
        "id": "BgulAFn9DJEd"
      }
    },
    {
      "cell_type": "markdown",
      "source": [
        "- 랜덤 서치(random search)이용\n",
        "- 매개변수 값의 목록을 전달하는 것이 아니라 매개변수를 샘플링할 수 있는 확률 분포 객체를 전달"
      ],
      "metadata": {
        "id": "UF3QYeK6DeHA"
      }
    },
    {
      "cell_type": "markdown",
      "source": [
        "> 싸이파이(scipy)\n",
        "- 파이썬의 핵심 과학 라이브러리\n",
        "- 적분, 보간, 선형 대수, 확률 등을 포함한 수치 계산 전용 라이브러리"
      ],
      "metadata": {
        "id": "ZDkKymoyDwIq"
      }
    },
    {
      "cell_type": "code",
      "source": [
        "from scipy.stats import uniform, randint"
      ],
      "metadata": {
        "id": "g4FDtg6mD_lY"
      },
      "execution_count": 23,
      "outputs": []
    },
    {
      "cell_type": "markdown",
      "source": [
        "- 싸이파이의 stats 서비 패키지에 있는 uniform과 randint 클래스는 모두 주어진 범위에서 고르게 값을 뽑음.\n",
        "  - '균등 분포에서 샘플링'\n",
        "  - randint : 정숫값을 뽑음\n",
        "  - uniform : 실숫값을 뽑음"
      ],
      "metadata": {
        "id": "xDLfAY-HEHi8"
      }
    },
    {
      "cell_type": "code",
      "source": [
        "rgen = randint(0, 10)\n",
        "rgen.rvs(10)"
      ],
      "metadata": {
        "colab": {
          "base_uri": "https://localhost:8080/"
        },
        "id": "Pz5qVvQAEjLL",
        "outputId": "1a0446a0-c4b1-4f1e-a158-7000d9dbc0eb"
      },
      "execution_count": 24,
      "outputs": [
        {
          "output_type": "execute_result",
          "data": {
            "text/plain": [
              "array([0, 3, 8, 2, 3, 8, 3, 8, 7, 1])"
            ]
          },
          "metadata": {},
          "execution_count": 24
        }
      ]
    },
    {
      "cell_type": "code",
      "source": [
        "np.unique(rgen.rvs(1000), return_counts=True)"
      ],
      "metadata": {
        "colab": {
          "base_uri": "https://localhost:8080/"
        },
        "id": "1EulD8RYEuYA",
        "outputId": "3ca8ecb1-8aa3-433b-8c48-926254236a13"
      },
      "execution_count": 25,
      "outputs": [
        {
          "output_type": "execute_result",
          "data": {
            "text/plain": [
              "(array([0, 1, 2, 3, 4, 5, 6, 7, 8, 9]),\n",
              " array([111,  88, 104,  88, 117,  97,  91,  92,  90, 122]))"
            ]
          },
          "metadata": {},
          "execution_count": 25
        }
      ]
    },
    {
      "cell_type": "code",
      "source": [
        "ugen = uniform(0, 1)\n",
        "ugen.rvs(10)"
      ],
      "metadata": {
        "colab": {
          "base_uri": "https://localhost:8080/"
        },
        "id": "OWzb4_WSE7IV",
        "outputId": "0fb07e19-4aac-4d7a-fc71-5069f71c0e18"
      },
      "execution_count": 26,
      "outputs": [
        {
          "output_type": "execute_result",
          "data": {
            "text/plain": [
              "array([0.03797408, 0.58763462, 0.98272677, 0.17041929, 0.05654931,\n",
              "       0.09258853, 0.87524285, 0.76708824, 0.61140304, 0.36494506])"
            ]
          },
          "metadata": {},
          "execution_count": 26
        }
      ]
    },
    {
      "cell_type": "markdown",
      "source": [
        "- min_samples_leaf : 리프 노드가 되기 위한 최소 샘플의 개수\n",
        "- 어떤 노드가 분할하여 만들어질 자식 노드의 샘플 수가 이 값보다 작을 경우 분할하지 않음."
      ],
      "metadata": {
        "id": "h42ybGjRHuvS"
      }
    },
    {
      "cell_type": "code",
      "source": [
        "params = {'min_impurity_decrease' : uniform(0.0001, 0.001), \n",
        "          'max_depth' : randint(20, 50),  \n",
        "          'min_samples_split' : randint(2, 25),\n",
        "          'min_samples_leaf' : randint(1, 25)\n",
        "          } "
      ],
      "metadata": {
        "id": "-3lsY9hMIKgR"
      },
      "execution_count": 27,
      "outputs": []
    },
    {
      "cell_type": "markdown",
      "source": [
        "- 샘플링 횟수는 사이킷런의 랜점 서치 클래스인 RandomizedSearchCV의 n_iter 매개변수에 지정"
      ],
      "metadata": {
        "id": "Mh5FpiP1IzTx"
      }
    },
    {
      "cell_type": "code",
      "source": [
        "from sklearn.model_selection import RandomizedSearchCV\n",
        "gs = RandomizedSearchCV(DecisionTreeClassifier(random_state=42), params, \n",
        "                        n_iter=100, n_jobs=-1, random_state=42)\n",
        "gs.fit(train_input, train_target)"
      ],
      "metadata": {
        "colab": {
          "base_uri": "https://localhost:8080/"
        },
        "id": "FQ46VwV3I91X",
        "outputId": "6cd3a40c-a73b-466a-d36d-3e7a54f70c78"
      },
      "execution_count": 28,
      "outputs": [
        {
          "output_type": "execute_result",
          "data": {
            "text/plain": [
              "RandomizedSearchCV(estimator=DecisionTreeClassifier(random_state=42),\n",
              "                   n_iter=100, n_jobs=-1,\n",
              "                   param_distributions={'max_depth': <scipy.stats._distn_infrastructure.rv_frozen object at 0x7feb8c126650>,\n",
              "                                        'min_impurity_decrease': <scipy.stats._distn_infrastructure.rv_frozen object at 0x7feb8bfb5ad0>,\n",
              "                                        'min_samples_leaf': <scipy.stats._distn_infrastructure.rv_frozen object at 0x7feb8c28bf50>,\n",
              "                                        'min_samples_split': <scipy.stats._distn_infrastructure.rv_frozen object at 0x7feb8bfb54d0>},\n",
              "                   random_state=42)"
            ]
          },
          "metadata": {},
          "execution_count": 28
        }
      ]
    },
    {
      "cell_type": "code",
      "source": [
        "print(gs.best_params_)"
      ],
      "metadata": {
        "colab": {
          "base_uri": "https://localhost:8080/"
        },
        "id": "lhO04nQrJa2U",
        "outputId": "6b305df9-a711-4fe1-870b-897864f5bbd3"
      },
      "execution_count": 29,
      "outputs": [
        {
          "output_type": "stream",
          "name": "stdout",
          "text": [
            "{'max_depth': 39, 'min_impurity_decrease': 0.00034102546602601173, 'min_samples_leaf': 7, 'min_samples_split': 13}\n"
          ]
        }
      ]
    },
    {
      "cell_type": "code",
      "source": [
        "print(np.max(gs.cv_results_['mean_test_score']))"
      ],
      "metadata": {
        "colab": {
          "base_uri": "https://localhost:8080/"
        },
        "id": "fHBrH0qTJgo0",
        "outputId": "208229e1-6350-484b-ebd0-32f221b1695a"
      },
      "execution_count": 30,
      "outputs": [
        {
          "output_type": "stream",
          "name": "stdout",
          "text": [
            "0.8695428296438884\n"
          ]
        }
      ]
    },
    {
      "cell_type": "markdown",
      "source": [
        "- 최적의 모델은 이미 전체 훈련 세트(train_input, train_target)로 훈련, best_estimator_ 속성에 저장"
      ],
      "metadata": {
        "id": "jaPaftd0Jsvh"
      }
    },
    {
      "cell_type": "code",
      "source": [
        "dt = gs.best_estimator_\n",
        "print(dt.score(test_input, test_target))"
      ],
      "metadata": {
        "colab": {
          "base_uri": "https://localhost:8080/"
        },
        "id": "Z2tBJh2rJ5t-",
        "outputId": "c8f56372-d716-4af2-b371-48449b39f928"
      },
      "execution_count": 31,
      "outputs": [
        {
          "output_type": "stream",
          "name": "stdout",
          "text": [
            "0.86\n"
          ]
        }
      ]
    },
    {
      "cell_type": "markdown",
      "source": [
        "## 마무리"
      ],
      "metadata": {
        "id": "CrkXhjXPLKLl"
      }
    },
    {
      "cell_type": "markdown",
      "source": [
        "### 키워드로 끝내는 핵심 포인트\n",
        "- 검증 세트 : 하이퍼파라미터 튜닝을 위해 모델을 평가할 때, 테스트 세트를 사용하지 않기 위해 훈련 세트에서 다시 떼어 낸 데이터 세트\n",
        "- 교차 검증 : 훈련 세트를 여러 폴드로 나눈 다음 한 폴드가 검증 세트의 역할을 하고 나머지 폴드에서는 모델을 훈련.\n",
        "  - 교차 검증은 이런 식으로 모든 폴드에 대해 검증 점수를 얻어 평균하는 방법\n",
        "- 그리드 서치 : 하이퍼파라미터 탐색을 자동화해 주는 도구.\n",
        "  - 탐색할 매개변수를 나열하면 교차 검증을 수행하여 가장 좋은 검증 점수의 매개변수 조합을 선택.\n",
        "  - 마지막으로 이 매개변수 조합으로 최종 모델을 훈련\n",
        "- 랜덤 서치 : 연속된 매개변수 값을 탐색할 때 유용.\n",
        "  - 탐색할 값을 직접 나열하는 것이 아니고 탐색 값을 샘플링할 수 있는 확률 분포 객체를 전달\n",
        "  - 지정된 횟수만큼 샘플링하여 교차 검증을 수행하기 때문에 시스템 자원이 허락하는 만큼 탐색량을 조절 가능."
      ],
      "metadata": {
        "id": "YK3mCInILOoI"
      }
    },
    {
      "cell_type": "markdown",
      "source": [
        "### 핵심 패키지와 함수\n",
        "> scikit-learn\n",
        "- cross_validate() : 교차 검증을 수행하는 함수\n",
        "  - 첫 번째 매개변수에 교차 검증을 수행할 모델 객체를 전다. 두 번째와 세 번째 매개변수에 특성과 타깃 데이터를 전달\n",
        "  - scoring : 검증에 사용할 평가 지표를 지정 가능\n",
        "    - 기본적으로 분류 모델은 정확도를 'accuracy'\n",
        "    - 회귀 모델은 결정계수를 의미하는 'r2'\n",
        "  - cv : 교차 검증 폴드 수나 스플리터 객체를 지정.\n",
        "    - 기본값 = 5\n",
        "    - 회귀일 때 : KFold\n",
        "    - 분류일 때 : StratifiedKFold\n",
        "  - n_jobs : 교차 검증을 수행할 때 사용할 CPU 코어 수 지정\n",
        "    - 기본값 = 1\n",
        "    - -1 : 모든 코어 사용\n",
        "  - return_train_score \n",
        "    - True : 훈련 세트의 점수도 반환\n",
        "    - 기본값 = False\n",
        "- GridSearchCV : 교차 검증으로 하이퍼파라미터 탐색을 수행\n",
        "  - 최상의 모델을 찾은 후 훈련 세트 전체를 사용해 최종 모델을 훈련\n",
        "  - 첫 번째 매개변수로 그리드 서치를 수행할 모델 객체를 전달\n",
        "  - 두 번째 매개변수로 탐색할 모델의 매개변수와 값을 전달\n",
        "  - scoring, cv, n_jobs, return_train_score : cross_validate() 함수와 동일\n",
        "- RandomizedSearchCV ; 교차 검증으로 랜덤한 하이퍼파라미터 탐색을 수행\n",
        "  - 최상의 모델을 찾은 후 훈련 세트 전체를 사용해 최종 모델을 훈련\n",
        "  - 첫 번째 매개변수로 그리드 서치를 수행할 모델 객체를 전달\n",
        "  - 두 번째 매개변수에는 탐색할 모델의 매개변수와 확률 분포 객체를 전달\n",
        "  - scoring, cv, n_jobs, return_train_score 매개변수는 cross_validate() 함수와 동일"
      ],
      "metadata": {
        "id": "xQPe3qNdNSX0"
      }
    }
  ]
}