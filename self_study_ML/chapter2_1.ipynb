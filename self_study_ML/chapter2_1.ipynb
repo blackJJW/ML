{
  "nbformat": 4,
  "nbformat_minor": 0,
  "metadata": {
    "colab": {
      "name": "chapter2-1",
      "provenance": [],
      "authorship_tag": "ABX9TyPXEIjl8zInkgJGMKg8HLso",
      "include_colab_link": true
    },
    "kernelspec": {
      "name": "python3",
      "display_name": "Python 3"
    },
    "language_info": {
      "name": "python"
    }
  },
  "cells": [
    {
      "cell_type": "markdown",
      "metadata": {
        "id": "view-in-github",
        "colab_type": "text"
      },
      "source": [
        "<a href=\"https://colab.research.google.com/github/blackJJW/ML/blob/main/self_study_ML/chapter2_1.ipynb\" target=\"_parent\"><img src=\"https://colab.research.google.com/assets/colab-badge.svg\" alt=\"Open In Colab\"/></a>"
      ]
    },
    {
      "cell_type": "markdown",
      "source": [
        "# Book : '혼자 공부하는 머신러닝 + 딥러닝', 박해선 지음, 한빛미디어"
      ],
      "metadata": {
        "id": "m0YPBnjSWpMB"
      }
    },
    {
      "cell_type": "markdown",
      "source": [
        "# 02-1 훈련 세트와 테스트 세트"
      ],
      "metadata": {
        "id": "ybG8_3TVWz9b"
      }
    },
    {
      "cell_type": "markdown",
      "source": [
        "## 지도 학습(supervised learning)과 비지도 학습(unsupervised learning)\n",
        "- 지도 학습 알고리즘은 훈련하기 위한 데이터와 정답이 필요\n",
        "- 지도 학습에서는 데이터와 정답을 입력(input)과 타깃(target), 이 둘을 합쳐 훈련 데이터(training data)\n",
        "- 입력과 타깃 : 독립변수(입력), 종속변수(타깃)\n",
        "- 지도 학습 알고리즘은 입력(데이터)과 타깃(정답)으로 이뤄진 훈련 데이터가 필요\n"
      ],
      "metadata": {
        "id": "AuQnuyBaXLRo"
      }
    },
    {
      "cell_type": "markdown",
      "source": [
        "- 입력 데이터만 있을 때는 비지도 학습 알고리즘을 사용"
      ],
      "metadata": {
        "id": "MwbcOlCTZDlP"
      }
    },
    {
      "cell_type": "markdown",
      "source": [
        "- 강화 학습(reinforcement learning) : 타깃이 아니라 알고리즘이 행동한 결과로 얻은 보상을 사용해 학습"
      ],
      "metadata": {
        "id": "rPNnjU9WZYWD"
      }
    },
    {
      "cell_type": "markdown",
      "source": [
        "## 훈련 세트와 테스트 세트\n",
        "- 훈련에 사용되는 데이터를 훈련 세트(train set)\n",
        "- 평가에 사용되는 데이터를 테스트 세트(test set)\n",
        "- 머신러닝의 정확한 평가를 위해서는 데스트 세트와 훈련 세트가 따로 준비되어야 함"
      ],
      "metadata": {
        "id": "ChyhTb7MZwpi"
      }
    },
    {
      "cell_type": "code",
      "source": [
        "fish_length = [25.4, 26.3, 26.5, 29.0, 29.0, 29.7, 29.7, 30.0, 30.0, 30.7, 31.0, 31.0, \n",
        "                31.5, 32.0, 32.0, 32.0, 33.0, 33.0, 33.5, 33.5, 34.0, 34.0, 34.5, 35.0, \n",
        "                35.0, 35.0, 35.0, 36.0, 36.0, 37.0, 38.5, 38.5, 39.5, 41.0, 41.0, 9.8, \n",
        "                10.5, 10.6, 11.0, 11.2, 11.3, 11.8, 11.8, 12.0, 12.2, 12.4, 13.0, 14.3, 15.0]\n",
        "fish_weight = [242.0, 290.0, 340.0, 363.0, 430.0, 450.0, 500.0, 390.0, 450.0, 500.0, 475.0, 500.0, \n",
        "                500.0, 340.0, 600.0, 600.0, 700.0, 700.0, 610.0, 650.0, 575.0, 685.0, 620.0, 680.0, \n",
        "                700.0, 725.0, 720.0, 714.0, 850.0, 1000.0, 920.0, 955.0, 925.0, 975.0, 950.0, 6.7, \n",
        "                7.5, 7.0, 9.7, 9.8, 8.7, 10.0, 9.9, 9.8, 12.2, 13.4, 12.2, 19.7, 19.9]"
      ],
      "metadata": {
        "id": "SQlV78DZbLpR"
      },
      "execution_count": 1,
      "outputs": []
    },
    {
      "cell_type": "code",
      "source": [
        "fish_data = [[l, w] for l, w in zip(fish_length, fish_weight)]\n",
        "fish_target = [1] * 35 + [0] * 14"
      ],
      "metadata": {
        "id": "l_WJnr-BbwUV"
      },
      "execution_count": 3,
      "outputs": []
    },
    {
      "cell_type": "markdown",
      "source": [
        "- 이 때 하나의 생선 데이터를 샘플(sample)이라고 부름\n",
        "- 훈련 세트 35개, 테스트 세트 14개"
      ],
      "metadata": {
        "id": "z_S_ignrcGme"
      }
    },
    {
      "cell_type": "code",
      "source": [
        "from sklearn.neighbors import KNeighborsClassifier\n",
        "kn = KNeighborsClassifier()"
      ],
      "metadata": {
        "id": "jQrTCz6EcYcV"
      },
      "execution_count": 15,
      "outputs": []
    },
    {
      "cell_type": "markdown",
      "source": [
        "- 일반적으로 리스트처럼 배열의 요소를 선택할 때는 배열의 위치, 즉 인덱스(index)를 지정\n",
        "- ex) fish_data의 다섯 번째 샘플을 출력하기 위해 다음과 같이 쓸 수 있음"
      ],
      "metadata": {
        "id": "2LewPnficqiW"
      }
    },
    {
      "cell_type": "code",
      "source": [
        "print(fish_data[4])"
      ],
      "metadata": {
        "colab": {
          "base_uri": "https://localhost:8080/"
        },
        "id": "9zG-BHQvdNEW",
        "outputId": "93e6d402-6a48-47ec-da54-4abac9887c70"
      },
      "execution_count": 6,
      "outputs": [
        {
          "output_type": "stream",
          "name": "stdout",
          "text": [
            "[29.0, 430.0]\n"
          ]
        }
      ]
    },
    {
      "cell_type": "markdown",
      "source": [
        "- 파이썬 리스트는 인덱스 외에도 슬라이싱(slicing) 제공\n",
        "- 슬라이싱 연산을 이용하면 인덱스의 범위를 지정하여 원소를 여러 개 선택 가능\n",
        "- 슬라이싱을 사용할 때는 마지막 인덱스의 원소는 포함되지 않는다."
      ],
      "metadata": {
        "id": "-CjLCijrdVnm"
      }
    },
    {
      "cell_type": "code",
      "source": [
        "print(fish_data[0:5])"
      ],
      "metadata": {
        "colab": {
          "base_uri": "https://localhost:8080/"
        },
        "id": "F6iAdyN5dyHn",
        "outputId": "9348db89-676a-46a2-df67-8aa98a6126b3"
      },
      "execution_count": 7,
      "outputs": [
        {
          "output_type": "stream",
          "name": "stdout",
          "text": [
            "[[25.4, 242.0], [26.3, 290.0], [26.5, 340.0], [29.0, 363.0], [29.0, 430.0]]\n"
          ]
        }
      ]
    },
    {
      "cell_type": "code",
      "source": [
        "print(fish_data[:5])"
      ],
      "metadata": {
        "colab": {
          "base_uri": "https://localhost:8080/"
        },
        "id": "vpBrfxx8eIm6",
        "outputId": "16713067-fde3-4edb-c6da-115849a6e7d3"
      },
      "execution_count": 8,
      "outputs": [
        {
          "output_type": "stream",
          "name": "stdout",
          "text": [
            "[[25.4, 242.0], [26.3, 290.0], [26.5, 340.0], [29.0, 363.0], [29.0, 430.0]]\n"
          ]
        }
      ]
    },
    {
      "cell_type": "code",
      "source": [
        "print(fish_data[44:])"
      ],
      "metadata": {
        "colab": {
          "base_uri": "https://localhost:8080/"
        },
        "id": "X8VmdElEePAe",
        "outputId": "efa9046f-7a52-4342-ab23-5488d25ec0e0"
      },
      "execution_count": 9,
      "outputs": [
        {
          "output_type": "stream",
          "name": "stdout",
          "text": [
            "[[12.2, 12.2], [12.4, 13.4], [13.0, 12.2], [14.3, 19.7], [15.0, 19.9]]\n"
          ]
        }
      ]
    },
    {
      "cell_type": "code",
      "source": [
        "# 훈련 세트로 입력값 중 0부터 34번째 인덱스까지 사용\n",
        "train_input = fish_data[:35]\n",
        "# 훈련 세트로 타깃값 중 0부터 34번째 인덱스까지 사용\n",
        "train_target = fish_target[:35]\n",
        "# 테스트 세트로 입력값 중 35번째부터 마지막 인덱스까지 사용\n",
        "test_input = fish_data[35:]\n",
        "# 테스트 세트로 타깃값 중 35번째부터 마지막 인덱스까지 사용\n",
        "test_target = fish_target[35:]"
      ],
      "metadata": {
        "id": "KFKu4E7UeT-e"
      },
      "execution_count": 10,
      "outputs": []
    },
    {
      "cell_type": "code",
      "source": [
        "kn = kn.fit(train_input, train_target)\n",
        "kn.score(test_input, test_target)"
      ],
      "metadata": {
        "colab": {
          "base_uri": "https://localhost:8080/"
        },
        "id": "KW-W30xvfIK4",
        "outputId": "1fc931e0-70b8-4b25-bea1-4562f67b163b"
      },
      "execution_count": 17,
      "outputs": [
        {
          "output_type": "execute_result",
          "data": {
            "text/plain": [
              "0.0"
            ]
          },
          "metadata": {},
          "execution_count": 17
        }
      ]
    },
    {
      "cell_type": "markdown",
      "source": [
        "## 샘플링 편향\n",
        "- 일반적으로 훈려 세트와 테스트 세트에 샘플이 골고루 섞여 있지 않으면 샘플링이 한쪽으로 치우쳤다는 의미로 샘플링 편향(sampling bias)라고 부름\n",
        "- 특정 종휴릐 샘플이 과도하게 많은 샘플링 편향을 가지고 있다면 제대로 된 지도 학습 모델을 만들 수 없다."
      ],
      "metadata": {
        "id": "l6eH_Mksgwo3"
      }
    },
    {
      "cell_type": "markdown",
      "source": [
        "## 넘파이\n",
        "- 배열(array) 라이브러리\n",
        "- 고차원의 배열을 손쉽게 만들고 조작할 수 잇는 간편한 도구를 제공\n",
        "\n",
        "> 차원(dimension)\n",
        "  - 배열에서 차원은 좌표계의 축과 같음\n",
        "  - 1차원 배열은 선, 2차원 배열은 면, 3차원 배열은 공간"
      ],
      "metadata": {
        "id": "pbvChS3bhtyQ"
      }
    },
    {
      "cell_type": "code",
      "source": [
        "import numpy as np"
      ],
      "metadata": {
        "id": "roWPpImZjEuL"
      },
      "execution_count": 18,
      "outputs": []
    },
    {
      "cell_type": "code",
      "source": [
        "# 파이썬 리스를 넘파이 배열로 바꾸기\n",
        "# 넘파이 array() 함수에 파이썬 리스트를 전달\n",
        "\n",
        "input_arr = np.array(fish_data)\n",
        "target_arr = np.array(fish_target)"
      ],
      "metadata": {
        "id": "zfH14wspkcSx"
      },
      "execution_count": 19,
      "outputs": []
    },
    {
      "cell_type": "code",
      "source": [
        "print(input_arr)"
      ],
      "metadata": {
        "colab": {
          "base_uri": "https://localhost:8080/"
        },
        "id": "3Mpq79oTkwwn",
        "outputId": "9523a6a6-3323-43a1-ad28-e113de478164"
      },
      "execution_count": 21,
      "outputs": [
        {
          "output_type": "stream",
          "name": "stdout",
          "text": [
            "[[  25.4  242. ]\n",
            " [  26.3  290. ]\n",
            " [  26.5  340. ]\n",
            " [  29.   363. ]\n",
            " [  29.   430. ]\n",
            " [  29.7  450. ]\n",
            " [  29.7  500. ]\n",
            " [  30.   390. ]\n",
            " [  30.   450. ]\n",
            " [  30.7  500. ]\n",
            " [  31.   475. ]\n",
            " [  31.   500. ]\n",
            " [  31.5  500. ]\n",
            " [  32.   340. ]\n",
            " [  32.   600. ]\n",
            " [  32.   600. ]\n",
            " [  33.   700. ]\n",
            " [  33.   700. ]\n",
            " [  33.5  610. ]\n",
            " [  33.5  650. ]\n",
            " [  34.   575. ]\n",
            " [  34.   685. ]\n",
            " [  34.5  620. ]\n",
            " [  35.   680. ]\n",
            " [  35.   700. ]\n",
            " [  35.   725. ]\n",
            " [  35.   720. ]\n",
            " [  36.   714. ]\n",
            " [  36.   850. ]\n",
            " [  37.  1000. ]\n",
            " [  38.5  920. ]\n",
            " [  38.5  955. ]\n",
            " [  39.5  925. ]\n",
            " [  41.   975. ]\n",
            " [  41.   950. ]\n",
            " [   9.8    6.7]\n",
            " [  10.5    7.5]\n",
            " [  10.6    7. ]\n",
            " [  11.     9.7]\n",
            " [  11.2    9.8]\n",
            " [  11.3    8.7]\n",
            " [  11.8   10. ]\n",
            " [  11.8    9.9]\n",
            " [  12.     9.8]\n",
            " [  12.2   12.2]\n",
            " [  12.4   13.4]\n",
            " [  13.    12.2]\n",
            " [  14.3   19.7]\n",
            " [  15.    19.9]]\n"
          ]
        }
      ]
    },
    {
      "cell_type": "code",
      "source": [
        "print(input_arr.shape) # (샘플 수, 특성 수)"
      ],
      "metadata": {
        "colab": {
          "base_uri": "https://localhost:8080/"
        },
        "id": "fKxlvs_0k6DB",
        "outputId": "e52e686d-522a-4520-bf65-b75c8365c0fe"
      },
      "execution_count": 22,
      "outputs": [
        {
          "output_type": "stream",
          "name": "stdout",
          "text": [
            "(49, 2)\n"
          ]
        }
      ]
    },
    {
      "cell_type": "markdown",
      "source": [
        "- 이 배열에서 랜덤하게 샘플을 선택해 훈련 세트와 테스트 세트로 만듬\n",
        "- 배열을 섞은 후 나누는 방식 대신에 무작위로 샘플을 고르는 방법 사용\n",
        "- 한 가지 주의, input_arr와 target_arr에서 같은 위치는 함께 선택되어야 함\n",
        "- 훈련 세트와 테스트 세트로 나눌 인덱스 값이 필요\n",
        "- 넘파이 arange() 함수를 사용하면 0에서 48까지 1씩 증가하는 인덱스를 간단히 만들수 있음\n",
        "- 일정한 결과를 얻으려면 초기에 램덤시드(random seed)를 지정"
      ],
      "metadata": {
        "id": "MA7wJegWlsgB"
      }
    },
    {
      "cell_type": "code",
      "source": [
        "np.random.seed(42)\n",
        "index = np.arange(49)\n",
        "np.random.shuffle(index)"
      ],
      "metadata": {
        "id": "zHvSExSTmmOT"
      },
      "execution_count": 24,
      "outputs": []
    },
    {
      "cell_type": "markdown",
      "source": [
        "- 넘파이 arange() 함수에 정수 N을 전달하면 0에서부터 N-1까지 1씩 증가하는 배열을 만듬"
      ],
      "metadata": {
        "id": "qbObDadpm7OV"
      }
    },
    {
      "cell_type": "code",
      "source": [
        "print(index)"
      ],
      "metadata": {
        "colab": {
          "base_uri": "https://localhost:8080/"
        },
        "id": "pcI1PdaznHB-",
        "outputId": "75aee2a7-dd72-4a14-faaa-3dfeb71039c0"
      },
      "execution_count": 25,
      "outputs": [
        {
          "output_type": "stream",
          "name": "stdout",
          "text": [
            "[13 45 47 44 17 27 26 25 31 19 12  4 34  8  3  6 40 41 46 15  9 16 24 33\n",
            " 30  0 43 32  5 29 11 36  1 21  2 37 35 23 39 10 22 18 48 20  7 42 14 28\n",
            " 38]\n"
          ]
        }
      ]
    },
    {
      "cell_type": "markdown",
      "source": [
        "- 넘파이는 배열 인덱싱(array indexing) 제공\n",
        "- 배열 인덱싱은 1개의 인덱스가 아닌 여러 개의 인덱스로 한 버네 여러 개의 원소를 선택 가능"
      ],
      "metadata": {
        "id": "-GfSpS1lnO51"
      }
    },
    {
      "cell_type": "code",
      "source": [
        "print(input_arr[[1, 3]])"
      ],
      "metadata": {
        "colab": {
          "base_uri": "https://localhost:8080/"
        },
        "id": "jORL0-PFnh6o",
        "outputId": "63f3ba4d-2c76-466c-f752-61a28ea6f701"
      },
      "execution_count": 26,
      "outputs": [
        {
          "output_type": "stream",
          "name": "stdout",
          "text": [
            "[[ 26.3 290. ]\n",
            " [ 29.  363. ]]\n"
          ]
        }
      ]
    },
    {
      "cell_type": "markdown",
      "source": [
        "- 리스트 대신 넘파이 배영을 인덱스로 전달 가능"
      ],
      "metadata": {
        "id": "IZJBnKganpGZ"
      }
    },
    {
      "cell_type": "code",
      "source": [
        "train_input = input_arr[index[:35]]\n",
        "train_target = target_arr[index[:35]]"
      ],
      "metadata": {
        "id": "1c4a9AAanwZ7"
      },
      "execution_count": 27,
      "outputs": []
    },
    {
      "cell_type": "code",
      "source": [
        "print(input_arr[13], train_input[0])"
      ],
      "metadata": {
        "colab": {
          "base_uri": "https://localhost:8080/"
        },
        "id": "Y5nNcALRn9h0",
        "outputId": "c578f1f6-a7a1-4d89-a3dc-9082662a3cac"
      },
      "execution_count": 28,
      "outputs": [
        {
          "output_type": "stream",
          "name": "stdout",
          "text": [
            "[ 32. 340.] [ 32. 340.]\n"
          ]
        }
      ]
    },
    {
      "cell_type": "code",
      "source": [
        "test_input = input_arr[index[35:]]\n",
        "test_target = target_arr[index[35:]]"
      ],
      "metadata": {
        "id": "rc6kWprSpsKS"
      },
      "execution_count": 29,
      "outputs": []
    },
    {
      "cell_type": "markdown",
      "source": [
        "- 2차원 배열은 행과 열 인덱스를 콤마(,)로 나누어 지정\n",
        "- 슬라이싱 연산자로 처음부터 마지막 원소까지 모두 선택하는 경우 시작과 종료 인덱스를 모두 생략 가능"
      ],
      "metadata": {
        "id": "Z2lQtWaup8EV"
      }
    },
    {
      "cell_type": "code",
      "source": [
        "import matplotlib.pyplot as plt\n",
        "\n",
        "plt.scatter(train_input[:,0], train_input[:,1])\n",
        "plt.scatter(test_input[:,0], test_input[:,1])\n",
        "plt.xlabel('length')\n",
        "plt.ylabel('weight')\n",
        "plt.show()"
      ],
      "metadata": {
        "colab": {
          "base_uri": "https://localhost:8080/",
          "height": 279
        },
        "id": "iMqcpyuHqQDK",
        "outputId": "691d2429-d910-405d-bf75-29239420aee2"
      },
      "execution_count": 30,
      "outputs": [
        {
          "output_type": "display_data",
          "data": {
            "text/plain": [
              "<Figure size 432x288 with 1 Axes>"
            ],
            "image/png": "[encoded data removed]"
          },
          "metadata": {
            "needs_background": "light"
          }
        }
      ]
    },
    {
      "cell_type": "markdown",
      "source": [
        "## 두 번째 머신러닝 프로그램\n",
        "- k-최근접 이웃 모델을 훈련\n",
        "- fit() 메서드를 실행할 때마다 KNeighborsClassifier 클래스의 객체는 이전에 학습한 모든 것을 잃어버림\n",
        "- 새로운 객체 생성 필요"
      ],
      "metadata": {
        "id": "b4nWbFHCq5l_"
      }
    },
    {
      "cell_type": "code",
      "source": [
        "kn = kn.fit(train_input, train_target)"
      ],
      "metadata": {
        "id": "wz6pAkSQrYJA"
      },
      "execution_count": 31,
      "outputs": []
    },
    {
      "cell_type": "code",
      "source": [
        "kn.score(test_input, test_target)"
      ],
      "metadata": {
        "colab": {
          "base_uri": "https://localhost:8080/"
        },
        "id": "1GsnUskXrf0e",
        "outputId": "36df2266-46c1-4de1-c7f2-8eae618505e2"
      },
      "execution_count": 32,
      "outputs": [
        {
          "output_type": "execute_result",
          "data": {
            "text/plain": [
              "1.0"
            ]
          },
          "metadata": {},
          "execution_count": 32
        }
      ]
    },
    {
      "cell_type": "code",
      "source": [
        "kn.predict(test_input)"
      ],
      "metadata": {
        "colab": {
          "base_uri": "https://localhost:8080/"
        },
        "id": "ZGC6rBGnrnOQ",
        "outputId": "dd0f70d5-ae9c-4c45-ee32-26a95ec98b36"
      },
      "execution_count": 33,
      "outputs": [
        {
          "output_type": "execute_result",
          "data": {
            "text/plain": [
              "array([0, 0, 1, 0, 1, 1, 1, 0, 1, 1, 0, 1, 1, 0])"
            ]
          },
          "metadata": {},
          "execution_count": 33
        }
      ]
    },
    {
      "cell_type": "code",
      "source": [
        "test_target"
      ],
      "metadata": {
        "colab": {
          "base_uri": "https://localhost:8080/"
        },
        "id": "PfuG5LfbrqJU",
        "outputId": "611f2126-50c2-4820-c3a9-86e13666d923"
      },
      "execution_count": 34,
      "outputs": [
        {
          "output_type": "execute_result",
          "data": {
            "text/plain": [
              "array([0, 0, 1, 0, 1, 1, 1, 0, 1, 1, 0, 1, 1, 0])"
            ]
          },
          "metadata": {},
          "execution_count": 34
        }
      ]
    },
    {
      "cell_type": "markdown",
      "source": [
        "- 사이킷런 모델의 입력과 출력은 모두 넘파이 배열"
      ],
      "metadata": {
        "id": "FMchyXiRrxD1"
      }
    },
    {
      "cell_type": "markdown",
      "source": [
        "## 훈련 모델 평가\n",
        "- 모델을 훈련할 때 사용한 데이터로 모델의 성능을 평가하는 것은 정답을 미리 알려주고 시험을 보는 것과 같음\n",
        "- 공정하게 점수를 매개개 위해서는 훈련에 참여하지 않는 샘플을 사용해야함\n",
        "- 이 때문에 훈련 데이터를 훈련 세트와 테스트 세트로 나누었다."
      ],
      "metadata": {
        "id": "RuQ8vBGbr7mK"
      }
    },
    {
      "cell_type": "markdown",
      "source": [
        "## 마무리"
      ],
      "metadata": {
        "id": "CKvAxzsrs6pH"
      }
    },
    {
      "cell_type": "markdown",
      "source": [
        "### 키워드로 끝내는 핵심 포인트\n",
        "- 지도 학습 : 입력과 타깃을 전달하여 모델을 훈련한 다음 새로운 데이터를 예측하는 게 활용\n",
        "- 비지도 학습 : 타깃 데이터가 없음. 따라서 무엇을 예측하는 것이 아니라 입력 데이터에서 어떤 특징을 찾는 데 활용\n",
        "- 훈련 세트 : 모델을 훈련할 때 사용하는 데이터. 보통 훈련 세트가 클수로 좋음. 따라서 테스트 세트를 제외한 모든 데이터를 사용\n",
        "- 테스트 세트 : 전체 데이터에서 20~30%를 테스트 세트로 사용하느 경우가 많음. 전체 데이터가 아주 크다면 1%만 덜어내도 충분"
      ],
      "metadata": {
        "id": "lcsO-gGys_WM"
      }
    },
    {
      "cell_type": "markdown",
      "source": [
        "### 핵심 패키지와 함수\n",
        "> numpy\n",
        "  - seed() : 넘파이엥서 난수를 생성하기 위한 정수 초깃값을 지정. 초깃값이 같으면 동일한 난수를 뽑을 수 있다. 따라서 랜덤 함수의 결과를 동일하게 재현하고 싶을 때 사용\n",
        "  - arange() : 일정한 간격의 정수또는 실수 배열을 생성. 기본 간격은 1. 매개변수가 하나면 종료 숫자를 의미. 0에서 종료 숫자까지 배열을 생성. 종료 숫자는 배열에 포함 안됨"
      ],
      "metadata": {
        "id": "SEvT115at0qq"
      }
    },
    {
      "cell_type": "code",
      "source": [
        "print(np.arange(3))"
      ],
      "metadata": {
        "colab": {
          "base_uri": "https://localhost:8080/"
        },
        "id": "rDlgS9CZvKBV",
        "outputId": "43b04dbe-2d5e-460e-a1ae-59d429048365"
      },
      "execution_count": 35,
      "outputs": [
        {
          "output_type": "stream",
          "name": "stdout",
          "text": [
            "[0 1 2]\n"
          ]
        }
      ]
    },
    {
      "cell_type": "code",
      "source": [
        "print(np.arange(1, 3))"
      ],
      "metadata": {
        "colab": {
          "base_uri": "https://localhost:8080/"
        },
        "id": "-cg7vHz2vPpw",
        "outputId": "ad311720-3f84-4855-8405-eea078633dd2"
      },
      "execution_count": 36,
      "outputs": [
        {
          "output_type": "stream",
          "name": "stdout",
          "text": [
            "[1 2]\n"
          ]
        }
      ]
    },
    {
      "cell_type": "code",
      "source": [
        "print(np.arange(1, 3, 0.2))"
      ],
      "metadata": {
        "colab": {
          "base_uri": "https://localhost:8080/"
        },
        "id": "7Ka6ss1QvToV",
        "outputId": "2642effd-bdca-49fa-f11d-af7f9c2a0d25"
      },
      "execution_count": 37,
      "outputs": [
        {
          "output_type": "stream",
          "name": "stdout",
          "text": [
            "[1.  1.2 1.4 1.6 1.8 2.  2.2 2.4 2.6 2.8]\n"
          ]
        }
      ]
    },
    {
      "cell_type": "markdown",
      "source": [
        "> - shuffle() : 주어진 배열을 랜덤하게 섞음. 다차원 배열일 경우 첫 번째 축(행)에 대해서만 섞음"
      ],
      "metadata": {
        "id": "7L0dvKMFvYbu"
      }
    },
    {
      "cell_type": "code",
      "source": [
        "arr = np.array([[1,2], [3, 4], [5, 6]])\n",
        "np.random.shuffle(arr)\n",
        "print(arr)"
      ],
      "metadata": {
        "colab": {
          "base_uri": "https://localhost:8080/"
        },
        "id": "CfzmEyQ7vn5C",
        "outputId": "11805d3a-3fd2-4582-d229-2128e8129c85"
      },
      "execution_count": 39,
      "outputs": [
        {
          "output_type": "stream",
          "name": "stdout",
          "text": [
            "[[5 6]\n",
            " [1 2]\n",
            " [3 4]]\n"
          ]
        }
      ]
    }
  ]
}