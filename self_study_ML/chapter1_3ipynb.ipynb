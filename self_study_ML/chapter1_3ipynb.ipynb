{
  "nbformat": 4,
  "nbformat_minor": 0,
  "metadata": {
    "colab": {
      "name": "chapter1_3ipynb",
      "provenance": [],
      "authorship_tag": "ABX9TyOL8dD3KC5/znHGlFrGJin5",
      "include_colab_link": true
    },
    "kernelspec": {
      "name": "python3",
      "display_name": "Python 3"
    },
    "language_info": {
      "name": "python"
    }
  },
  "cells": [
    {
      "cell_type": "markdown",
      "metadata": {
        "id": "view-in-github",
        "colab_type": "text"
      },
      "source": [
        "<a href=\"https://colab.research.google.com/github/blackJJW/ML/blob/main/self_study_ML/chapter1_3ipynb.ipynb\" target=\"_parent\"><img src=\"https://colab.research.google.com/assets/colab-badge.svg\" alt=\"Open In Colab\"/></a>"
      ]
    },
    {
      "cell_type": "markdown",
      "source": [
        "# Book : '혼자 공부하는 머신러닝 + 딥러닝', 박해선 지음, 한빛미디어"
      ],
      "metadata": {
        "id": "64_fPOaEwjAt"
      }
    },
    {
      "cell_type": "markdown",
      "source": [
        "# 01-3 마켓과 머신러닝\n",
        "- 간단한 머신러닝 알고리즘 중 하나인 k-최근접 이웃을 사용, 2개의 종류를 분류하는 머신러닝 모델을 훈련"
      ],
      "metadata": {
        "id": "HhJcCjZVv_mb"
      }
    },
    {
      "cell_type": "markdown",
      "source": [
        "## 생선 분류 문제\n",
        "- 생선 종류 : '도미', '곤들메기', '농어', '강꼬치고기', '로치', '빙어', '송어'\n",
        "- 생선 길이 30cm 이상 -> '도미'\n",
        "\n",
        "\n",
        "\n",
        "```\n",
        "if fish_length >= 30:\n",
        "  print('도미')\n",
        "```\n",
        "- 30cm 이상이 꼭 '도미'라고 말할 수 없음\n",
        "- 절대 바뀌지 않은 기준 정하기 어려움\n",
        "- 머신러닝은 스스로 기준을 찾아서 일을 함\n"
      ],
      "metadata": {
        "id": "KHeu8caVwV3w"
      }
    },
    {
      "cell_type": "markdown",
      "source": [
        "### 도미 데이터 준비\n",
        "- 머신러닝은 여러 개의 도미 생선을 보면 스스로 어떤 생선이 도미인지를 구분할 기준을 찾음\n",
        "- 간단한 문제부터 해결 필요\n",
        "> 이진 분류\n",
        "  - 머신러닝에서 여러 개의 종류(혹은 클래스(class)) 중 하나를 구별해 내는 문제를 분류(classification)\n",
        "  - 2개의 클래스 중 하나를 고르는 문제를 이진 분류(binary classification)\n",
        "\n",
        "\n"
      ],
      "metadata": {
        "id": "FKVMd-WR0Jh6"
      }
    },
    {
      "cell_type": "code",
      "source": [
        "bream_length = [25.4, 26.3, 26.5, 29.0, 29.0, 29.7, 29.7, 30.0, 30.0, 30.7, 31.0, 31.0, \n",
        "                31.5, 32.0, 32.0, 32.0, 33.0, 33.0, 33.5, 33.5, 34.0, 34.0, 34.5, 35.0, \n",
        "                35.0, 35.0, 35.0, 36.0, 36.0, 37.0, 38.5, 38.5, 39.5, 41.0, 41.0]\n",
        "bream_weight = [242.0, 290.0, 340.0, 363.0, 430.0, 450.0, 500.0, 390.0, 450.0, 500.0, 475.0, 500.0, \n",
        "                500.0, 340.0, 600.0, 600.0, 700.0, 700.0, 610.0, 650.0, 575.0, 685.0, 620.0, 680.0, \n",
        "                700.0, 725.0, 720.0, 714.0, 850.0, 1000.0, 920.0, 955.0, 925.0, 975.0, 950.0]"
      ],
      "metadata": {
        "id": "yWkn08cw9e91"
      },
      "execution_count": 1,
      "outputs": []
    },
    {
      "cell_type": "markdown",
      "source": [
        "- 도미 데이터(35마리)\n",
        "- 도미의 특징을 길이와 무게로 표현 -> 이런 특징 -> 특성(feature)\n",
        "- 특성(feature) : 데이터의 특징\n",
        "- 그래프 이용 시 더 잘 이해 가능\n",
        "- 산점도(catter plot): x, y축으로 이뤄진 좌표계에 두 변수(x, y)의 관계를 표현하는 방법\n",
        "- Python 과학계산용 그래프 패키지 : matplotlib"
      ],
      "metadata": {
        "id": "HnBgvIWb9jrS"
      }
    },
    {
      "cell_type": "code",
      "source": [
        "import matplotlib.pyplot as plt\n",
        "\n",
        "plt.scatter(bream_length, bream_weight)\n",
        "plt.xlabel('length')\n",
        "plt.ylabel('weight')\n",
        "plt.show()"
      ],
      "metadata": {
        "colab": {
          "base_uri": "https://localhost:8080/",
          "height": 279
        },
        "id": "fycU8uhO-W36",
        "outputId": "28568725-b76d-49ff-99cf-ee7dbd563f63"
      },
      "execution_count": 2,
      "outputs": [
        {
          "output_type": "display_data",
          "data": {
            "text/plain": [
              "<Figure size 432x288 with 1 Axes>"
            ],
            "image/png": "[encoded data removed]"
          },
          "metadata": {
            "needs_background": "light"
          }
        }
      ]
    },
    {
      "cell_type": "markdown",
      "source": [
        "- 산점도의 그래프가 일직선에 가까운 형태로 나타나는 경우를 선형(linear)적이라고 함"
      ],
      "metadata": {
        "id": "M8gd_7t6-pdM"
      }
    },
    {
      "cell_type": "markdown",
      "source": [
        "### 빙어 데이터 준비\n",
        "- 빙어 데이터(14마리)"
      ],
      "metadata": {
        "id": "1yT_grgp-yFc"
      }
    },
    {
      "cell_type": "code",
      "source": [
        "smelt_length = [9.8, 10.5, 10.6, 11.0, 11.2, 11.3, 11.8, 11.8, 12.0, 12.2, 12.4, 13.0, 14.3, 15.0]\n",
        "smelt_weight = [6.7, 7.5, 7.0, 9.7, 9.8, 8.7, 10.0, 9.9, 9.8, 12.2, 13.4, 12.2, 19.7, 19.9]"
      ],
      "metadata": {
        "id": "_VT32ssC_fuz"
      },
      "execution_count": 3,
      "outputs": []
    },
    {
      "cell_type": "code",
      "source": [
        "plt.scatter(bream_length, bream_weight)\n",
        "plt.scatter(smelt_length, smelt_weight)\n",
        "plt.xlabel('length')\n",
        "plt.ylabel('weight')\n",
        "plt.show()"
      ],
      "metadata": {
        "colab": {
          "base_uri": "https://localhost:8080/",
          "height": 279
        },
        "id": "tiKxbSqa_p6A",
        "outputId": "fa248b18-c1b3-4919-fa15-92d8e03584ff"
      },
      "execution_count": 4,
      "outputs": [
        {
          "output_type": "display_data",
          "data": {
            "text/plain": [
              "<Figure size 432x288 with 1 Axes>"
            ],
            "image/png": "[encoded data removed]"
          },
          "metadata": {
            "needs_background": "light"
          }
        }
      ]
    },
    {
      "cell_type": "markdown",
      "source": [
        "## 첫 번째 머신러닝 프로그램\n",
        "- 가장 간단하고 이해가기 쉬운 k-최근접(k-Nearest Neighbors) 알고리즘을 사용, 도미와 빙어를 구분\n",
        "- 알고리즘 사용 전, 도미와 빙어 데이터를 하나의 데이터로 합침"
      ],
      "metadata": {
        "id": "_S8NdvyQ_3-P"
      }
    },
    {
      "cell_type": "code",
      "source": [
        "length = bream_length + smelt_length\n",
        "weight = bream_weight + smelt_weight"
      ],
      "metadata": {
        "id": "09iP9DQKDtvs"
      },
      "execution_count": 5,
      "outputs": []
    },
    {
      "cell_type": "markdown",
      "source": [
        "- 사용하는 패키지 : 사이킷 런(scikit-learn)\n",
        "- 이 패키지를 사용하려면 2차원 리스트 필요\n",
        "- 파이썬의 zip() 함수와 리스트 내포(list comprehension)구문 사용\n",
        "- zip()함수는 나열된 리스트 각각에서 하나씩 원소를 꺼내 반환"
      ],
      "metadata": {
        "id": "8CnMl5bVD3Em"
      }
    },
    {
      "cell_type": "code",
      "source": [
        "fish_data = [[l, w] for l, w in zip(length, weight)]"
      ],
      "metadata": {
        "id": "rQLibZdFER5n"
      },
      "execution_count": 6,
      "outputs": []
    },
    {
      "cell_type": "markdown",
      "source": [
        "> zip() 함수와 for문\n",
        "  - zip() : 나열된 리스트에서 원소를 하나씩 꺼내주는 일을 함\n",
        "  - for : 반복문"
      ],
      "metadata": {
        "id": "wT-fm85mEiCo"
      }
    },
    {
      "cell_type": "code",
      "source": [
        "print(fish_data)"
      ],
      "metadata": {
        "colab": {
          "base_uri": "https://localhost:8080/"
        },
        "id": "9g3bvev5EuzX",
        "outputId": "73e6cb3c-9e72-46c6-a2a9-f6d5603ee666"
      },
      "execution_count": 7,
      "outputs": [
        {
          "output_type": "stream",
          "name": "stdout",
          "text": [
            "[[25.4, 242.0], [26.3, 290.0], [26.5, 340.0], [29.0, 363.0], [29.0, 430.0], [29.7, 450.0], [29.7, 500.0], [30.0, 390.0], [30.0, 450.0], [30.7, 500.0], [31.0, 475.0], [31.0, 500.0], [31.5, 500.0], [32.0, 340.0], [32.0, 600.0], [32.0, 600.0], [33.0, 700.0], [33.0, 700.0], [33.5, 610.0], [33.5, 650.0], [34.0, 575.0], [34.0, 685.0], [34.5, 620.0], [35.0, 680.0], [35.0, 700.0], [35.0, 725.0], [35.0, 720.0], [36.0, 714.0], [36.0, 850.0], [37.0, 1000.0], [38.5, 920.0], [38.5, 955.0], [39.5, 925.0], [41.0, 975.0], [41.0, 950.0], [9.8, 6.7], [10.5, 7.5], [10.6, 7.0], [11.0, 9.7], [11.2, 9.8], [11.3, 8.7], [11.8, 10.0], [11.8, 9.9], [12.0, 9.8], [12.2, 12.2], [12.4, 13.4], [13.0, 12.2], [14.3, 19.7], [15.0, 19.9]]\n"
          ]
        }
      ]
    },
    {
      "cell_type": "markdown",
      "source": [
        "- 도미 = 1, 빙어 = 0"
      ],
      "metadata": {
        "id": "4k43o0hrE4Di"
      }
    },
    {
      "cell_type": "code",
      "source": [
        "fish_target = [1] * 35 + [0] * 14\n",
        "print(fish_target)"
      ],
      "metadata": {
        "colab": {
          "base_uri": "https://localhost:8080/"
        },
        "id": "90j0pLvNE-Qd",
        "outputId": "ffb8c131-cbbb-4bcf-8bf5-d37f6aba0339"
      },
      "execution_count": 9,
      "outputs": [
        {
          "output_type": "stream",
          "name": "stdout",
          "text": [
            "[1, 1, 1, 1, 1, 1, 1, 1, 1, 1, 1, 1, 1, 1, 1, 1, 1, 1, 1, 1, 1, 1, 1, 1, 1, 1, 1, 1, 1, 1, 1, 1, 1, 1, 1, 0, 0, 0, 0, 0, 0, 0, 0, 0, 0, 0, 0, 0, 0]\n"
          ]
        }
      ]
    },
    {
      "cell_type": "code",
      "source": [
        "# KNeighborsClassifier 임포트\n",
        "from sklearn.neighbors import KNeighborsClassifier"
      ],
      "metadata": {
        "id": "v8BEcGP9FKAU"
      },
      "execution_count": 10,
      "outputs": []
    },
    {
      "cell_type": "markdown",
      "source": [
        "> from ~ import 구문\n",
        "  - 파이썬에서 패키지나 모듈 전체를 임포트하지 않고 특정 클래스만 임포트하려면 from~import 구문을 사용"
      ],
      "metadata": {
        "id": "4qJxmss-FUUw"
      }
    },
    {
      "cell_type": "code",
      "source": [
        "# 임포트한 KNeighborsClassifier 클래스의 객체 생성\n",
        "kn = KNeighborsClassifier()"
      ],
      "metadata": {
        "id": "mjH8V2zwHgBh"
      },
      "execution_count": 11,
      "outputs": []
    },
    {
      "cell_type": "markdown",
      "source": [
        "- fish_data와 fish_target을 전달하여 도미를 찾기 위한 기준을 학습 -> 이런 과정을 머신러닝에서는 훈련(training)\n",
        "- 훈련(training) : 모델에 데이터를 전달하여 규칙을 학습하는 과정\n",
        "- 사이킷 런에는 fit()메서드가 존재 -> 훈련 역할"
      ],
      "metadata": {
        "id": "je7ecqQVHtfs"
      }
    },
    {
      "cell_type": "code",
      "source": [
        "kn.fit(fish_data, fish_target)"
      ],
      "metadata": {
        "colab": {
          "base_uri": "https://localhost:8080/"
        },
        "id": "HIQRe-BAISN1",
        "outputId": "1351d4df-f4d6-4312-a2ff-10320bf3d90d"
      },
      "execution_count": 12,
      "outputs": [
        {
          "output_type": "execute_result",
          "data": {
            "text/plain": [
              "KNeighborsClassifier()"
            ]
          },
          "metadata": {},
          "execution_count": 12
        }
      ]
    },
    {
      "cell_type": "markdown",
      "source": [
        "- fit() 메서드는 주어진 데이터로 알고리즘을 훈련\n",
        "- 훈련 평가 : 사이킷 런에서 score() 메서드 이용 -> 0 ~ 1 값 반환\n",
        "\n",
        "> 머신러닝에서의 모델\n",
        "  - 머신러닝 알고리즘을 구현한 프로그램을 모델(model)이라고 부름\n",
        "  - 프로그매이 아니더라도 알고리즘을 (수식 등) 구체화하여 표현한 것을 모델이라고 부름"
      ],
      "metadata": {
        "id": "WErp4XWAIgLk"
      }
    },
    {
      "cell_type": "code",
      "source": [
        "kn.score(fish_data, fish_target)"
      ],
      "metadata": {
        "colab": {
          "base_uri": "https://localhost:8080/"
        },
        "id": "ZqQMB6R-JAYj",
        "outputId": "90854526-2ce7-4be4-fce8-6410876445ea"
      },
      "execution_count": 13,
      "outputs": [
        {
          "output_type": "execute_result",
          "data": {
            "text/plain": [
              "1.0"
            ]
          },
          "metadata": {},
          "execution_count": 13
        }
      ]
    },
    {
      "cell_type": "markdown",
      "source": [
        "- 이 값을 정확도(accuracy)라고 부름"
      ],
      "metadata": {
        "id": "OjTQCO0gJFKw"
      }
    },
    {
      "cell_type": "markdown",
      "source": [
        "### k-최근접 이웃 알고리즘\n",
        "- 어떤 데이터에 대한 답을 구할 때 주위의 다른 데이터를 보고 다수를 차지하는 것을 정답으로 사용"
      ],
      "metadata": {
        "id": "X_a1HD2iNuE3"
      }
    },
    {
      "cell_type": "code",
      "source": [
        "kn.predict([[20, 600]])"
      ],
      "metadata": {
        "colab": {
          "base_uri": "https://localhost:8080/"
        },
        "id": "TJ-BbPx0N8FB",
        "outputId": "9926c8e1-a4db-4228-c48f-590e6092c274"
      },
      "execution_count": 15,
      "outputs": [
        {
          "output_type": "execute_result",
          "data": {
            "text/plain": [
              "array([1])"
            ]
          },
          "metadata": {},
          "execution_count": 15
        }
      ]
    },
    {
      "cell_type": "markdown",
      "source": [
        "- predict() : 새로운 데이터의 정답을 예측\n",
        "- fit()과 마찬가지로 2중 리스트로 전달\n",
        "- 새로운 데이터에 대한 예측할 때는 가장 가까운 직선거리에 어떤 데이터가 있는 지를 살피기만 하면 됨\n",
        "- 단점 : 데이터가 많은 경우에는 사용하기 어려움, 데이터가 크기 때문에 메모리가 많이 필요하고 직선거리를 계산하는 데도 많은 시간이 필요"
      ],
      "metadata": {
        "id": "fP2_ocXxOQur"
      }
    },
    {
      "cell_type": "markdown",
      "source": [
        "- 사이킷 런의 KNeighborsClassifier 클래스에는 _fit_X 속성에 우리가 전달한 fish_data를 모두 가지고 있음\n",
        "- _y속성에 fish_target을 가지고 있음"
      ],
      "metadata": {
        "id": "2Cl0RghrO0wM"
      }
    },
    {
      "cell_type": "code",
      "source": [
        "print(kn._fit_X)"
      ],
      "metadata": {
        "colab": {
          "base_uri": "https://localhost:8080/"
        },
        "id": "DVIjOqLdPKfw",
        "outputId": "521ff293-f0e5-4c30-ef8a-2212e6bac2bf"
      },
      "execution_count": 16,
      "outputs": [
        {
          "output_type": "stream",
          "name": "stdout",
          "text": [
            "[[  25.4  242. ]\n",
            " [  26.3  290. ]\n",
            " [  26.5  340. ]\n",
            " [  29.   363. ]\n",
            " [  29.   430. ]\n",
            " [  29.7  450. ]\n",
            " [  29.7  500. ]\n",
            " [  30.   390. ]\n",
            " [  30.   450. ]\n",
            " [  30.7  500. ]\n",
            " [  31.   475. ]\n",
            " [  31.   500. ]\n",
            " [  31.5  500. ]\n",
            " [  32.   340. ]\n",
            " [  32.   600. ]\n",
            " [  32.   600. ]\n",
            " [  33.   700. ]\n",
            " [  33.   700. ]\n",
            " [  33.5  610. ]\n",
            " [  33.5  650. ]\n",
            " [  34.   575. ]\n",
            " [  34.   685. ]\n",
            " [  34.5  620. ]\n",
            " [  35.   680. ]\n",
            " [  35.   700. ]\n",
            " [  35.   725. ]\n",
            " [  35.   720. ]\n",
            " [  36.   714. ]\n",
            " [  36.   850. ]\n",
            " [  37.  1000. ]\n",
            " [  38.5  920. ]\n",
            " [  38.5  955. ]\n",
            " [  39.5  925. ]\n",
            " [  41.   975. ]\n",
            " [  41.   950. ]\n",
            " [   9.8    6.7]\n",
            " [  10.5    7.5]\n",
            " [  10.6    7. ]\n",
            " [  11.     9.7]\n",
            " [  11.2    9.8]\n",
            " [  11.3    8.7]\n",
            " [  11.8   10. ]\n",
            " [  11.8    9.9]\n",
            " [  12.     9.8]\n",
            " [  12.2   12.2]\n",
            " [  12.4   13.4]\n",
            " [  13.    12.2]\n",
            " [  14.3   19.7]\n",
            " [  15.    19.9]]\n"
          ]
        }
      ]
    },
    {
      "cell_type": "code",
      "source": [
        "print(kn._y)"
      ],
      "metadata": {
        "colab": {
          "base_uri": "https://localhost:8080/"
        },
        "id": "Qk2zry0cPT22",
        "outputId": "1f64fddc-d096-4e31-bc25-b9947b234ae8"
      },
      "execution_count": 17,
      "outputs": [
        {
          "output_type": "stream",
          "name": "stdout",
          "text": [
            "[1 1 1 1 1 1 1 1 1 1 1 1 1 1 1 1 1 1 1 1 1 1 1 1 1 1 1 1 1 1 1 1 1 1 1 0 0\n",
            " 0 0 0 0 0 0 0 0 0 0 0 0]\n"
          ]
        }
      ]
    },
    {
      "cell_type": "markdown",
      "source": [
        "- k-최근접 이웃 알고리즘은 무언가 훈련되는 거싱 없는 셈\n",
        "- fit() 메서드에 전달한 데이터를 모두 저장하고 있다가 새로운 데이터가 등장하면 가장 가까운 데이터를 참고하여 구분\n",
        "- 몇 개의 데이터를 참고? -> 기본값 = 5 -> 매개변수 변경 가능"
      ],
      "metadata": {
        "id": "PxmK81bDPWJA"
      }
    },
    {
      "cell_type": "code",
      "source": [
        "kn49 = KNeighborsClassifier(n_neighbors=49)"
      ],
      "metadata": {
        "id": "RAC_F5b5PqnB"
      },
      "execution_count": 18,
      "outputs": []
    },
    {
      "cell_type": "markdown",
      "source": [
        "- 가장 가까운 데이터 49개를 사용하는 k-최근접 이웃 모델에 fish_data를 적용하면 fish_data에 있는 모든 생선을 사용하여 예측\n",
        "- 49개 중에 도미가 35개로 다수를 차지하므로 어떤 데이터를 넣어도 무조건 도미로 예측"
      ],
      "metadata": {
        "id": "77o2KxRSPyvj"
      }
    },
    {
      "cell_type": "code",
      "source": [
        "kn49.fit(fish_data, fish_target)\n",
        "kn49.score(fish_data, fish_target)"
      ],
      "metadata": {
        "colab": {
          "base_uri": "https://localhost:8080/"
        },
        "id": "CaAgsf8wQKDx",
        "outputId": "00633777-2c67-422b-d554-1dc53606d843"
      },
      "execution_count": 19,
      "outputs": [
        {
          "output_type": "execute_result",
          "data": {
            "text/plain": [
              "0.7142857142857143"
            ]
          },
          "metadata": {},
          "execution_count": 19
        }
      ]
    },
    {
      "cell_type": "code",
      "source": [
        "print(35/49)"
      ],
      "metadata": {
        "colab": {
          "base_uri": "https://localhost:8080/"
        },
        "id": "0kV-yJz0QX6l",
        "outputId": "4e3f60aa-558a-47e8-de91-79f0e187e3ad"
      },
      "execution_count": 20,
      "outputs": [
        {
          "output_type": "stream",
          "name": "stdout",
          "text": [
            "0.7142857142857143\n"
          ]
        }
      ]
    },
    {
      "cell_type": "markdown",
      "source": [
        "## 도미와 빙어 분류\n",
        "### 전체 소스 코드"
      ],
      "metadata": {
        "id": "Hx4bc8TXQfo_"
      }
    },
    {
      "cell_type": "code",
      "source": [
        "\"\"\"# 마켓과 머신러닝\"\"\"\n",
        "\"\"\"## 생선 분류 문제\"\"\"\n",
        "\"\"\"### 도미 데이터 준비하기\"\"\"\n",
        "\n",
        "import matplotlib.pyplot as plt\n",
        "from sklearn.neighbors import KNeighborsClassifier\n",
        "\n",
        "bream_length = [25.4, 26.3, 26.5, 29.0, 29.0, 29.7, 29.7, 30.0, 30.0, 30.7, 31.0, 31.0, \n",
        "                31.5, 32.0, 32.0, 32.0, 33.0, 33.0, 33.5, 33.5, 34.0, 34.0, 34.5, 35.0, \n",
        "                35.0, 35.0, 35.0, 36.0, 36.0, 37.0, 38.5, 38.5, 39.5, 41.0, 41.0]\n",
        "bream_weight = [242.0, 290.0, 340.0, 363.0, 430.0, 450.0, 500.0, 390.0, 450.0, 500.0, 475.0, 500.0, \n",
        "                500.0, 340.0, 600.0, 600.0, 700.0, 700.0, 610.0, 650.0, 575.0, 685.0, 620.0, 680.0, \n",
        "                700.0, 725.0, 720.0, 714.0, 850.0, 1000.0, 920.0, 955.0, 925.0, 975.0, 950.0]\n",
        "\n",
        "plt.scatter(bream_length, bream_weight)\n",
        "plt.xlabel('length')\n",
        "plt.ylabel('weight')\n",
        "plt.show()\n",
        "\n",
        "\"\"\"### 빙어 데이터 준비하기\"\"\"\n",
        "smelt_length = [9.8, 10.5, 10.6, 11.0, 11.2, 11.3, 11.8, 11.8, 12.0, 12.2, 12.4, 13.0, 14.3, 15.0]\n",
        "smelt_weight = [6.7, 7.5, 7.0, 9.7, 9.8, 8.7, 10.0, 9.9, 9.8, 12.2, 13.4, 12.2, 19.7, 19.9]\n",
        "\n",
        "plt.scatter(bream_length, bream_weight)\n",
        "plt.scatter(smelt_length, smelt_weight)\n",
        "plt.xlabel('length')\n",
        "plt.ylabel('weight')\n",
        "plt.show()\n",
        "\n",
        "\"\"\"## 첫 번째 머신러닝 프로그램\"\"\"\n",
        "length = bream_length + smelt_length\n",
        "weight = bream_weight + smelt_weight\n",
        "\n",
        "fish_data = [[l, w] for l, w in zip(length, weight)]\n",
        "\n",
        "print(fish_data)\n",
        "\n",
        "fish_target = [1] * 35 + [0] * 14\n",
        "print(fish_target)\n",
        "\n",
        "kn = KNeighborsClassifier()\n",
        "\n",
        "kn.fit(fish_data, fish_target)\n",
        "\n",
        "kn.score(fish_data,fish_target)\n",
        "\n",
        "\"\"\"### k-최근접 이웃 알고리즘\"\"\"\n",
        "plt.scatter(bream_length, bream_weight)\n",
        "plt.scatter(smelt_length, smelt_weight)\n",
        "plt.scatter(30, 600, marker='^')\n",
        "plt.xlabel('length')\n",
        "plt.ylabel('weight')\n",
        "plt.show()\n",
        "\n",
        "kn.predict([[30, 600]])\n",
        "\n",
        "print(kn._fit_X)\n",
        "\n",
        "print(kn._y)\n",
        "\n",
        "kn49 = KNeighborsClassifier(n_neighbors=49)\n",
        "\n",
        "kn49.fit(fish_data, fish_target)\n",
        "kn49.score(fish_data, fish_target)\n",
        "\n",
        "print(35/49)"
      ],
      "metadata": {
        "colab": {
          "base_uri": "https://localhost:8080/",
          "height": 1000
        },
        "id": "SN4TJwqYQmrV",
        "outputId": "0c59e650-356f-473a-bb26-43250ce8cfcc"
      },
      "execution_count": 21,
      "outputs": [
        {
          "output_type": "display_data",
          "data": {
            "text/plain": [
              "<Figure size 432x288 with 1 Axes>"
            ],
            "image/png": "[encoded data removed]"
          },
          "metadata": {
            "needs_background": "light"
          }
        },
        {
          "output_type": "display_data",
          "data": {
            "text/plain": [
              "<Figure size 432x288 with 1 Axes>"
            ],
            "image/png": "[encoded data removed]"
          },
          "metadata": {
            "needs_background": "light"
          }
        },
        {
          "output_type": "stream",
          "name": "stdout",
          "text": [
            "[[25.4, 242.0], [26.3, 290.0], [26.5, 340.0], [29.0, 363.0], [29.0, 430.0], [29.7, 450.0], [29.7, 500.0], [30.0, 390.0], [30.0, 450.0], [30.7, 500.0], [31.0, 475.0], [31.0, 500.0], [31.5, 500.0], [32.0, 340.0], [32.0, 600.0], [32.0, 600.0], [33.0, 700.0], [33.0, 700.0], [33.5, 610.0], [33.5, 650.0], [34.0, 575.0], [34.0, 685.0], [34.5, 620.0], [35.0, 680.0], [35.0, 700.0], [35.0, 725.0], [35.0, 720.0], [36.0, 714.0], [36.0, 850.0], [37.0, 1000.0], [38.5, 920.0], [38.5, 955.0], [39.5, 925.0], [41.0, 975.0], [41.0, 950.0], [9.8, 6.7], [10.5, 7.5], [10.6, 7.0], [11.0, 9.7], [11.2, 9.8], [11.3, 8.7], [11.8, 10.0], [11.8, 9.9], [12.0, 9.8], [12.2, 12.2], [12.4, 13.4], [13.0, 12.2], [14.3, 19.7], [15.0, 19.9]]\n",
            "[1, 1, 1, 1, 1, 1, 1, 1, 1, 1, 1, 1, 1, 1, 1, 1, 1, 1, 1, 1, 1, 1, 1, 1, 1, 1, 1, 1, 1, 1, 1, 1, 1, 1, 1, 0, 0, 0, 0, 0, 0, 0, 0, 0, 0, 0, 0, 0, 0]\n"
          ]
        },
        {
          "output_type": "display_data",
          "data": {
            "text/plain": [
              "<Figure size 432x288 with 1 Axes>"
            ],
            "image/png": "[encoded data removed]"
          },
          "metadata": {
            "needs_background": "light"
          }
        },
        {
          "output_type": "stream",
          "name": "stdout",
          "text": [
            "[[  25.4  242. ]\n",
            " [  26.3  290. ]\n",
            " [  26.5  340. ]\n",
            " [  29.   363. ]\n",
            " [  29.   430. ]\n",
            " [  29.7  450. ]\n",
            " [  29.7  500. ]\n",
            " [  30.   390. ]\n",
            " [  30.   450. ]\n",
            " [  30.7  500. ]\n",
            " [  31.   475. ]\n",
            " [  31.   500. ]\n",
            " [  31.5  500. ]\n",
            " [  32.   340. ]\n",
            " [  32.   600. ]\n",
            " [  32.   600. ]\n",
            " [  33.   700. ]\n",
            " [  33.   700. ]\n",
            " [  33.5  610. ]\n",
            " [  33.5  650. ]\n",
            " [  34.   575. ]\n",
            " [  34.   685. ]\n",
            " [  34.5  620. ]\n",
            " [  35.   680. ]\n",
            " [  35.   700. ]\n",
            " [  35.   725. ]\n",
            " [  35.   720. ]\n",
            " [  36.   714. ]\n",
            " [  36.   850. ]\n",
            " [  37.  1000. ]\n",
            " [  38.5  920. ]\n",
            " [  38.5  955. ]\n",
            " [  39.5  925. ]\n",
            " [  41.   975. ]\n",
            " [  41.   950. ]\n",
            " [   9.8    6.7]\n",
            " [  10.5    7.5]\n",
            " [  10.6    7. ]\n",
            " [  11.     9.7]\n",
            " [  11.2    9.8]\n",
            " [  11.3    8.7]\n",
            " [  11.8   10. ]\n",
            " [  11.8    9.9]\n",
            " [  12.     9.8]\n",
            " [  12.2   12.2]\n",
            " [  12.4   13.4]\n",
            " [  13.    12.2]\n",
            " [  14.3   19.7]\n",
            " [  15.    19.9]]\n",
            "[1 1 1 1 1 1 1 1 1 1 1 1 1 1 1 1 1 1 1 1 1 1 1 1 1 1 1 1 1 1 1 1 1 1 1 0 0\n",
            " 0 0 0 0 0 0 0 0 0 0 0 0]\n",
            "0.7142857142857143\n"
          ]
        }
      ]
    },
    {
      "cell_type": "markdown",
      "source": [
        "## 마무리"
      ],
      "metadata": {
        "id": "BAzI2HNWQ5Ug"
      }
    },
    {
      "cell_type": "markdown",
      "source": [
        "### 키워드로 끝내는 핵심 포인트\n",
        "- 특성은 데이터를 표현하는 하나의 성질\n",
        "- 머신러닝 알고리즘이 데이터에서 규칙을 찾는 과정을 훈련(training) -> 사이킷 런에는 fit()\n",
        "- k-최근접 이웃 알고리즘은 가장 간단한 머신러닝 알고리즘 중 하나. 어떤 규칙을 찾기보다는 전체 데이터를 메모리에 가지고 있는 것이 전부\n",
        "- 머신러닝 프로그램에서는 알고리즘이 구현된 객체를 모델. 종종 알고리즘 자체를 모델이라 부르기도 함\n",
        "- 정확도는 정확한 답을 몇 개 맞혔는 지를 백분율로 나타낸 값. 사이킷 런에서는 0~1의 값으로 출력\n",
        "\n",
        "> 정확도 = (정확히 맞힌 개수) / (전체 데이터 개수)"
      ],
      "metadata": {
        "id": "CglFltghQ9LM"
      }
    },
    {
      "cell_type": "markdown",
      "source": [
        "### 핵심 패키지와 함수"
      ],
      "metadata": {
        "id": "rr5I_FrRSBZ0"
      }
    },
    {
      "cell_type": "markdown",
      "source": [
        "1. matplotlib\n",
        "> scatter()\n",
        "  - 산점도를 그리는 함수\n",
        "  - c매개변수로 색상 지정 - 'b'(파랑), 'g'(초록), 'r'(빨강), 'c'(시안), 'm'(마젠타), 'y'(노랑), 'k'(검정), 'w'(흰색) 등\n",
        "  - marker 매개변수로 마커 스타일 \n",
        "  \n",
        "2. scikit-learn   \n",
        "\n",
        "> 1. KNeighborsClassifier()\n",
        "  - k-최근접 이웃 분류 모델을 만드는 사이킷 런 클래스\n",
        "  - n_neighbors 매개변수로 이웃의 개수를 지정. 기본값 = 5\n",
        "  - p 매개변수로 거리를 재는 방법을 지정 - 1일 경우 맨해튼 거리를 사용, 2일 경우 유클리디안 거리 사용. 기본값 = 2\n",
        "  - n_jobs 매개변수로 사용할 CPU 코어를 지정. -  -1로 설정시 모든 CPU 코어를 사용. 이웃 간의 거리 계산 속도들 높일 수 있었지만 fit() 메서드에는 영향이 없다. 기본값 = 1\n",
        "\n",
        "> 2. fit()\n",
        "  - 사이킷 런 모델을 훈련할 때 사용하는 메서드. 처음 두 매개변수로 훈련에 사용할 특성과 정답 데이터를 전달\n",
        "\n",
        "\n",
        "\n",
        ">  3. predict()\n",
        "  - 사이킷런 모델을 훈련하고 예측할 때 사용하는 메서드. 특성 데이터 하나만 매개변수로 받는다. \n",
        "\n",
        "\n",
        ">  4. score()\n",
        "  - 훈련된 사이킷런 모델의 성능을 측정. 처음 두 매개변수로 특성과 정답 데이터를 전달. 이 메서드는 먼저 predict() 메서드로 예측을 수행한 다음 분류 모델일 경우 정답과 비교하여 올바르게 예측한 개수의 비율을 반환"
      ],
      "metadata": {
        "id": "NPwkCp_ySGvn"
      }
    },
    {
      "cell_type": "code",
      "source": [
        ""
      ],
      "metadata": {
        "id": "bjacjCGnVPlH"
      },
      "execution_count": null,
      "outputs": []
    }
  ]
}