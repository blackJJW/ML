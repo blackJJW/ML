{
  "nbformat": 4,
  "nbformat_minor": 0,
  "metadata": {
    "colab": {
      "name": "chapter3-1",
      "provenance": [],
      "authorship_tag": "ABX9TyMRv6Gqzrcw2t/F0VDE338G",
      "include_colab_link": true
    },
    "kernelspec": {
      "name": "python3",
      "display_name": "Python 3"
    },
    "language_info": {
      "name": "python"
    }
  },
  "cells": [
    {
      "cell_type": "markdown",
      "metadata": {
        "id": "view-in-github",
        "colab_type": "text"
      },
      "source": [
        "<a href=\"https://colab.research.google.com/github/blackJJW/ML/blob/main/self_study_ML/chapter3_1.ipynb\" target=\"_parent\"><img src=\"https://colab.research.google.com/assets/colab-badge.svg\" alt=\"Open In Colab\"/></a>"
      ]
    },
    {
      "cell_type": "markdown",
      "source": [
        "# Book : '혼자 공부하는 머신러닝 + 딥러닝', 박해선 지음, 한빛미디어"
      ],
      "metadata": {
        "id": "gy8sSvWzlp90"
      }
    },
    {
      "cell_type": "markdown",
      "source": [
        "# 03-1 k-최근접 이웃 회귀"
      ],
      "metadata": {
        "id": "peufjMI-ltf5"
      }
    },
    {
      "cell_type": "markdown",
      "source": [
        "## k-최근접 이웃 회귀\n",
        "- 지도 학습 알고리즘 : 분류, 회귀(regression)\n",
        "- 분류 : 샘플릉 몇 개의 클래스 중 하나로 분류하는 문제\n",
        "- 회귀 : 클래스 중 하나로 분류하는 것이 아니라 임의의 어떤 숫자로 예측하는 문제. 정해진 클래스가 없고 임의의 수치를 출력"
      ],
      "metadata": {
        "id": "Rjorj8Wkmg4o"
      }
    },
    {
      "cell_type": "markdown",
      "source": [
        "> k-최근접 이웃 분류 알고리즘\n",
        "  1. 예측하려는 샘플에 가장 가까운 샘플 k개를 선택\n",
        "  2. 이 샘플들의 클래스를 확인하여 다수 클래스를 새로운 클래스로 예측"
      ],
      "metadata": {
        "id": "DjZY6Qqgq9N3"
      }
    },
    {
      "cell_type": "markdown",
      "source": [
        "> k-최근접 이웃 회귀 알고리즘\n",
        "  1. 예측하려는 샘플에 가장 가까운 샘플 k개를 선택\n",
        "  2. 회귀이기 때문에 이웃한 샘플의 타깃은 이웃한 샘플의 타깃은 어떤 클래스가 아니라 임의의 수치\n",
        "  3. 예측 타깃값 : 평균"
      ],
      "metadata": {
        "id": "2GKpo3Xismue"
      }
    },
    {
      "cell_type": "markdown",
      "source": [
        "## 데이터 준비"
      ],
      "metadata": {
        "id": "fByXxMvVz444"
      }
    },
    {
      "cell_type": "code",
      "source": [
        "import numpy as np\n",
        "\n",
        "perch_length = np.array([8.4, 13.7, 15.0, 16.2, 17.4, 18.0, 18.7, 19.0, 19.6, 20.0, 21.0,\n",
        "       21.0, 21.0, 21.3, 22.0, 22.0, 22.0, 22.0, 22.0, 22.5, 22.5, 22.7,\n",
        "       23.0, 23.5, 24.0, 24.0, 24.6, 25.0, 25.6, 26.5, 27.3, 27.5, 27.5,\n",
        "       27.5, 28.0, 28.7, 30.0, 32.8, 34.5, 35.0, 36.5, 36.0, 37.0, 37.0,\n",
        "       39.0, 39.0, 39.0, 40.0, 40.0, 40.0, 40.0, 42.0, 43.0, 43.0, 43.5,\n",
        "       44.0])\n",
        "perch_weight = np.array([5.9, 32.0, 40.0, 51.5, 70.0, 100.0, 78.0, 80.0, 85.0, 85.0, 110.0,\n",
        "       115.0, 125.0, 130.0, 120.0, 120.0, 130.0, 135.0, 110.0, 130.0,\n",
        "       150.0, 145.0, 150.0, 170.0, 225.0, 145.0, 188.0, 180.0, 197.0,\n",
        "       218.0, 300.0, 260.0, 265.0, 250.0, 250.0, 300.0, 320.0, 514.0,\n",
        "       556.0, 840.0, 685.0, 700.0, 700.0, 690.0, 900.0, 650.0, 820.0,\n",
        "       850.0, 900.0, 1015.0, 820.0, 1100.0, 1000.0, 1100.0, 1000.0,\n",
        "       1000.0])"
      ],
      "metadata": {
        "id": "0x2OCOpcz75X"
      },
      "execution_count": 1,
      "outputs": []
    },
    {
      "cell_type": "code",
      "source": [
        "import matplotlib.pyplot as plt\n",
        "\n",
        "plt.scatter(perch_length, perch_weight)\n",
        "plt.xlabel('length')\n",
        "plt.ylabel('weight')\n",
        "plt.show()"
      ],
      "metadata": {
        "colab": {
          "base_uri": "https://localhost:8080/",
          "height": 279
        },
        "id": "bEmEGdwV1BDP",
        "outputId": "ed248081-fa14-4da5-ece3-80f7e917f0fc"
      },
      "execution_count": 2,
      "outputs": [
        {
          "output_type": "display_data",
          "data": {
            "text/plain": [
              "<Figure size 432x288 with 1 Axes>"
            ],
            "image/png": "[encoded data removed]"
          },
          "metadata": {
            "needs_background": "light"
          }
        }
      ]
    },
    {
      "cell_type": "code",
      "source": [
        "from sklearn.model_selection import train_test_split\n",
        "\n",
        "train_input, test_input, train_target, test_target = train_test_split(perch_length, perch_weight, random_state = 42)"
      ],
      "metadata": {
        "id": "9C9F0dnD3v2D"
      },
      "execution_count": 13,
      "outputs": []
    },
    {
      "cell_type": "markdown",
      "source": [
        "- 사이킷런에서 사용할 훈련 세트는 2차원 배열\n",
        "- percjh_length -> 1차원 배열 -> train_input, test_input -> 1차원 배열\n",
        "- 1차원 배열 -> 2차원 배열로 변환\n",
        "  - [1, 2, 3] 크기 : (3, ) -> [[1], [2], [3]] 크기 : (3, 1)\n",
        "- reshape() 메서드\n",
        "  - (4,) -> (2, 2)\n",
        "  - 크기에 -1을 지정하면 나머지 원소 개수로 모두 채움\n",
        "    - ex) 첫 번째 크기를 나머지 원소 개수로 채우고, 두 번째 크기를 1로 하려면 train_input.reshape(-1, 1)"
      ],
      "metadata": {
        "id": "was3Nzwa9gz_"
      }
    },
    {
      "cell_type": "code",
      "source": [
        "test_array = np.array([1, 2, 3,4])\n",
        "print(test_array.shape)"
      ],
      "metadata": {
        "colab": {
          "base_uri": "https://localhost:8080/"
        },
        "id": "DaYietr8EKLB",
        "outputId": "3905eae9-9dcf-47fb-8bc8-6ec348a75c1f"
      },
      "execution_count": 14,
      "outputs": [
        {
          "output_type": "stream",
          "name": "stdout",
          "text": [
            "(4,)\n"
          ]
        }
      ]
    },
    {
      "cell_type": "code",
      "source": [
        "test_array = test_array.reshape(2, 2)\n",
        "print(test_array.shape)"
      ],
      "metadata": {
        "colab": {
          "base_uri": "https://localhost:8080/"
        },
        "id": "mGsn7yxMEUdk",
        "outputId": "41473463-ea37-46af-a6d6-f1722403509c"
      },
      "execution_count": 15,
      "outputs": [
        {
          "output_type": "stream",
          "name": "stdout",
          "text": [
            "(2, 2)\n"
          ]
        }
      ]
    },
    {
      "cell_type": "code",
      "source": [
        "train_input = train_input.reshape(-1, 1)\n",
        "test_input = test_input.reshape(-1, 1)\n",
        "print(train_input.shape, test_input.shape)"
      ],
      "metadata": {
        "colab": {
          "base_uri": "https://localhost:8080/"
        },
        "id": "TjWTkKv_FrP1",
        "outputId": "dea35dd0-7f8d-459a-a1ee-1d6920fdff0f"
      },
      "execution_count": 16,
      "outputs": [
        {
          "output_type": "stream",
          "name": "stdout",
          "text": [
            "(42, 1) (14, 1)\n"
          ]
        }
      ]
    },
    {
      "cell_type": "markdown",
      "source": [
        "## 결정계수($R^2$)\n",
        "- k-최근접 이웃 회귄 알고리즘을 구현한 클래스 : KNeighborsRegressor"
      ],
      "metadata": {
        "id": "uAWWLgvsHqML"
      }
    },
    {
      "cell_type": "code",
      "source": [
        "from sklearn.neighbors import KNeighborsRegressor\n",
        "\n",
        "knr = KNeighborsRegressor()\n",
        "\n",
        "# k-최근접 이웃 회귀 모델 훈련\n",
        "knr.fit(train_input, train_target)"
      ],
      "metadata": {
        "colab": {
          "base_uri": "https://localhost:8080/"
        },
        "id": "u2kq7UuSH8Pq",
        "outputId": "b51a1135-a772-48c6-d9b6-bdba309adec0"
      },
      "execution_count": 17,
      "outputs": [
        {
          "output_type": "execute_result",
          "data": {
            "text/plain": [
              "KNeighborsRegressor()"
            ]
          },
          "metadata": {},
          "execution_count": 17
        }
      ]
    },
    {
      "cell_type": "code",
      "source": [
        "print(knr.score(test_input, test_target))"
      ],
      "metadata": {
        "colab": {
          "base_uri": "https://localhost:8080/"
        },
        "id": "UOd-eC_KJS6E",
        "outputId": "c371b02c-e6f7-48ae-f7c1-fb575ae3efef"
      },
      "execution_count": 18,
      "outputs": [
        {
          "output_type": "stream",
          "name": "stdout",
          "text": [
            "0.992809406101064\n"
          ]
        }
      ]
    },
    {
      "cell_type": "markdown",
      "source": [
        "- 분류의 경우 테스트 세트에 있는 샘플을 정확하게 분류간 개수의 비율 -> 정확도\n",
        "- 회귀의 경우 정확한 숫자를 맞힌다는 것은 거의 불가능 -> 예측하는 값이나 타깃 모두 임의의 수치\n",
        "  - 회귀의 평가 : 결정계수(coefficient of determination), $R^2$\n",
        "  - $R^2 = 1 - \\frac{(타깃 - 예측)^2의\\, 합}{(타깃 - 평균)^2의\\, 합}$\n",
        "  - 만약 타깃의 평균 정도를 예측하는 수준이라면 $R^2$은 0에 가까워지고, 예측이 타깃에 아주 가까워지면 1에 가까운 값이 됨"
      ],
      "metadata": {
        "id": "yu1ve_keKy4H"
      }
    },
    {
      "cell_type": "markdown",
      "source": [
        "- mean_absolute_error : 타깃과 예측의 절댓값 오차를 평균하여 반환"
      ],
      "metadata": {
        "id": "cd5nv5wlMcdf"
      }
    },
    {
      "cell_type": "code",
      "source": [
        "from sklearn.metrics import mean_absolute_error\n",
        "\n",
        "# 테스트 세트에 대한 예측을 생성\n",
        "test_prediction = knr.predict(test_input)\n",
        "\n",
        "# 테스트 세트에 대한 평균 절댓값 오차를 계산\n",
        "mae = mean_absolute_error(test_target, test_prediction)\n",
        "print(mae)"
      ],
      "metadata": {
        "colab": {
          "base_uri": "https://localhost:8080/"
        },
        "id": "PSf6z3_RMqyd",
        "outputId": "2b08486c-0253-4d6b-c53c-7fbed0e49fc8"
      },
      "execution_count": 19,
      "outputs": [
        {
          "output_type": "stream",
          "name": "stdout",
          "text": [
            "19.157142857142862\n"
          ]
        }
      ]
    },
    {
      "cell_type": "markdown",
      "source": [
        "## 과대적합 vs 과소적합\n"
      ],
      "metadata": {
        "id": "GYEXlsf_PDzr"
      }
    },
    {
      "cell_type": "code",
      "source": [
        "print(knr.score(train_input, train_target))"
      ],
      "metadata": {
        "colab": {
          "base_uri": "https://localhost:8080/"
        },
        "id": "zSK7eMZXPJro",
        "outputId": "0c22b9c0-872a-4e13-f64b-b69e9ff58c70"
      },
      "execution_count": 20,
      "outputs": [
        {
          "output_type": "stream",
          "name": "stdout",
          "text": [
            "0.9698823289099254\n"
          ]
        }
      ]
    },
    {
      "cell_type": "markdown",
      "source": [
        "- 훈련 세트에서 점수가 굉장히 좋았는 데 테스트 세트에서는 점수가 됭장히 나쁘다면 모델이 훈련 세트에 과대적합(overfitting) -> 훈련 세트에만 잘 맞는 모델이라 테스트 세트와 나중에 실전에 투입하여 새로운 샘플에 대한 예측을 만들 때 잘 동작하지 않음\n",
        "   \n",
        "- 훈련 세트보다 테스트 세트의 점수가 높거나 두 점수가 모두 낮은 경우 -> 모델이 훈련세트에 과소적합(underfitting) -> 모델이 너무 단순, 훈련 세트에 적절히 훈련된지 않은 경우\n",
        "  - 훈련 세트와 테스트 세트의 크기가 매우 작은 경우\n",
        "\n",
        "- 훈련 세트와 테스트 세트의 점수를 비교했을 때 훈련 세트가 너무 높으면 과대적합, 그 반대이거나 두 점수가 모두 낮으면 과소적합"
      ],
      "metadata": {
        "id": "OoYlR5SCUsa3"
      }
    },
    {
      "cell_type": "markdown",
      "source": [
        "- 과소적합 문제해결\n",
        "  - 모델을 조금 더 복잡하게 만든다. -> 훈련 세트에 더 잘 맞게 만든다.\n",
        "  - k-최근접 이웃 알고리즘의 경우 이웃의 개수 k를 줄이는 것\n",
        "    - 이웃의 개수를 줄이면 훈련 세트에 있는 국지적인 패턴에 민감해짐\n",
        "    - 이웃의 개수를 늘리면 데이터 전반에 있는 일반적인 패턴에 따름"
      ],
      "metadata": {
        "id": "1n7JVT5SY6wZ"
      }
    },
    {
      "cell_type": "code",
      "source": [
        "# 이웃의 개수를 3으로 설정\n",
        "knr.n_neighbors = 3\n",
        "\n",
        "# 모델을 다시 훈련\n",
        "knr.fit(train_input, train_target)\n",
        "print(knr.score(train_input, train_target))"
      ],
      "metadata": {
        "colab": {
          "base_uri": "https://localhost:8080/"
        },
        "id": "O9FLHCs5cPrC",
        "outputId": "d8f52a1c-8524-48ae-90c8-8b6e43a206eb"
      },
      "execution_count": 22,
      "outputs": [
        {
          "output_type": "stream",
          "name": "stdout",
          "text": [
            "0.9804899950518966\n"
          ]
        }
      ]
    },
    {
      "cell_type": "code",
      "source": [
        "print(knr.score(test_input, test_target))"
      ],
      "metadata": {
        "colab": {
          "base_uri": "https://localhost:8080/"
        },
        "id": "5LTxSU_cdHWn",
        "outputId": "3f071506-d6ae-4057-bd05-5e3bb7c09d72"
      },
      "execution_count": 23,
      "outputs": [
        {
          "output_type": "stream",
          "name": "stdout",
          "text": [
            "0.9746459963987609\n"
          ]
        }
      ]
    },
    {
      "cell_type": "markdown",
      "source": [
        "## 마무리"
      ],
      "metadata": {
        "id": "Rw4wUlECdRgp"
      }
    },
    {
      "cell_type": "markdown",
      "source": [
        "### 키워드로 끝내는 핵심 포인트\n",
        "- 회귀 : 임의의 수치를 예측하는 문제. 타깃값도 임의의 수치\n",
        "- k-최근접 이웃 회귀 : k-최근접 이웃 알고리즘을 사용해 회귀 문제 해결. 가장 가까운 이웃 샘플을 찾고 이 샘플들의 타깃값을 평균하여 예측으로 삼음\n",
        "- 결정계수($R^2$) : 대표적인 회귀 문제의 성능 측정 도구. 1에 가까울 수록 좋고, 0에 가까울 수록 성능이 나쁨\n",
        "- 과대적합 : 모델의 훈련 세트의 서능이 테스트 세트 성능보다 훨씬 높을 때 발생. 모델이 훈련 세트에 너무 집착, 데이터에 내재된 거시적인 패턴을 감지하지 못함.\n",
        "- 과소적합 : 훈련 세트와 테스트 세트 성능이 모두 동일하게 낮거나 테스트 세트 성능이 오히려 더 높을 때 발생. 이런 경우 더 복잡한 모델을 사용해 훈려 세트에 잘 맞는 모델을 만들어야 함"
      ],
      "metadata": {
        "id": "DHOTCgr-dUT1"
      }
    },
    {
      "cell_type": "markdown",
      "source": [
        "### 핵심 패키지와 함수\n",
        "> scikit-learn\n",
        "  - KNeighborsRegressor : k-최근접 이웃 회귀 모델을 만듬. \n",
        "    - n_neighbors : 이웃의 개수. 기본값 = 5\n",
        "  - mean_absolute_error() : 회귀 모델의 평균 절댓값 오차를 계산. \n",
        "    - 첫 번째 매개변수 : 타깃\n",
        "    - 두 번째 매개변수 : 예측값\n",
        "    - 타깃과 예측을 뺀 값을 제곱한 다음 전체 샘플에 대해 평균한 값을 반환   \n",
        "\n",
        "> numpy\n",
        "  - reshape() : 배열의 크기를 바꿈.\n",
        "    - 바꾸고자 하는 배열의 크기를 매개변수로 전달. 바꾸기 전후의 배열 원소 개수는 동일해야 함\n",
        "    - 넘파이는 종종 배열의 메서드와 동일한 함수를 별도로 제공\n",
        "      - 함수의 첫 번째 매개변수는 바꾸조자 하는 배열\n",
        "        - test_array.reshape(2, 2) -> np.reshape(test_array, (2, 2))"
      ],
      "metadata": {
        "id": "lj0CvvLleZ4W"
      }
    }
  ]
}